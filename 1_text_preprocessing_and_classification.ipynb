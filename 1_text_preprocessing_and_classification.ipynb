{
 "cells": [
  {
   "cell_type": "markdown",
   "metadata": {},
   "source": [
    "<img src=\"https://s8.hostingkartinok.com/uploads/images/2018/08/308b49fcfbc619d629fe4604bceb67ac.jpg\" width=500, height=450>\n",
    "<h3 style=\"text-align: center;\"><b>Физтех-Школа Прикладной математики и информатики (ФПМИ) МФТИ</b></h3>"
   ]
  },
  {
   "cell_type": "markdown",
   "metadata": {
    "id": "3PcL7r1hqySq"
   },
   "source": [
    "# Предобработка текста"
   ]
  },
  {
   "cell_type": "markdown",
   "metadata": {
    "heading_collapsed": true,
    "id": "N-sGLT0vp4jt"
   },
   "source": [
    "## Часть 1"
   ]
  },
  {
   "cell_type": "markdown",
   "metadata": {
    "hidden": true,
    "id": "Wn8EWAjnr18g"
   },
   "source": [
    "### Токенизация"
   ]
  },
  {
   "cell_type": "code",
   "execution_count": 12,
   "metadata": {
    "ExecuteTime": {
     "end_time": "2022-09-05T12:01:12.768521Z",
     "start_time": "2022-09-05T12:01:12.414084Z"
    },
    "colab": {
     "base_uri": "https://localhost:8080/"
    },
    "hidden": true,
    "id": "btBdBLxbgrNV",
    "outputId": "a7fe3f5c-0700-424e-e917-819007411386"
   },
   "outputs": [
    {
     "name": "stderr",
     "output_type": "stream",
     "text": [
      "[nltk_data] Downloading package punkt to\n",
      "[nltk_data]     /Users/antonermak/nltk_data...\n",
      "[nltk_data]   Package punkt is already up-to-date!\n"
     ]
    }
   ],
   "source": [
    "import nltk\n",
    "nltk.download('punkt')\n",
    "from nltk.tokenize import word_tokenize, sent_tokenize"
   ]
  },
  {
   "cell_type": "code",
   "execution_count": 13,
   "metadata": {
    "ExecuteTime": {
     "end_time": "2022-09-05T12:01:12.864194Z",
     "start_time": "2022-09-05T12:01:12.839693Z"
    },
    "colab": {
     "base_uri": "https://localhost:8080/"
    },
    "hidden": true,
    "id": "eq-QOD9NlO_Q",
    "outputId": "e254cf47-27ef-46b7-c503-2bc58d835f4a"
   },
   "outputs": [
    {
     "name": "stdout",
     "output_type": "stream",
     "text": [
      "['all', 'work', 'and', 'no', 'play', 'makes', 'jack', 'a', 'dull', 'boy', ',', 'all', 'work', 'and', 'no', 'play']\n"
     ]
    }
   ],
   "source": [
    "data = \"All work and no play makes jack a dull boy, all work and no play\"\n",
    "tokens = word_tokenize(data.lower())\n",
    "print(tokens)"
   ]
  },
  {
   "cell_type": "code",
   "execution_count": 14,
   "metadata": {
    "ExecuteTime": {
     "end_time": "2022-09-05T12:01:13.258007Z",
     "start_time": "2022-09-05T12:01:13.252147Z"
    },
    "colab": {
     "base_uri": "https://localhost:8080/"
    },
    "hidden": true,
    "id": "eFDKUzkS6Mci",
    "outputId": "0bbbcfce-22d9-4ea0-8912-877a3ec02baf"
   },
   "outputs": [
    {
     "name": "stdout",
     "output_type": "stream",
     "text": [
      "['I was going home when she rung.', 'It was a surprise.']\n"
     ]
    }
   ],
   "source": [
    "print(sent_tokenize(\"I was going home when she rung. It was a surprise.\"))"
   ]
  },
  {
   "cell_type": "markdown",
   "metadata": {
    "hidden": true,
    "id": "DQoG7qznyuf5"
   },
   "source": [
    "[<img src=\"https://raw.githubusercontent.com/natasha/natasha-logos/master/natasha.svg\">](https://github.com/natasha/natasha)"
   ]
  },
  {
   "cell_type": "markdown",
   "metadata": {
    "hidden": true,
    "id": "XPeApu2mwYxY"
   },
   "source": [
    "[Razdel](https://natasha.github.io/razdel/)"
   ]
  },
  {
   "cell_type": "code",
   "execution_count": 15,
   "metadata": {
    "ExecuteTime": {
     "end_time": "2022-09-05T12:01:19.122455Z",
     "start_time": "2022-09-05T12:01:14.225985Z"
    },
    "hidden": true,
    "id": "TwJj5Z2fvbeN"
   },
   "outputs": [],
   "source": [
    "!pip install -q razdel"
   ]
  },
  {
   "cell_type": "code",
   "execution_count": 16,
   "metadata": {
    "ExecuteTime": {
     "end_time": "2022-09-05T12:01:19.153565Z",
     "start_time": "2022-09-05T12:01:19.127989Z"
    },
    "colab": {
     "base_uri": "https://localhost:8080/"
    },
    "hidden": true,
    "id": "Uy58Xd_vve-z",
    "outputId": "b5a29b12-0873-4d64-c116-db9da2a2e4f9"
   },
   "outputs": [
    {
     "data": {
      "text/plain": [
       "[Substring(0, 13, 'Кружка-термос'),\n",
       " Substring(14, 16, 'на'),\n",
       " Substring(17, 20, '0.5'),\n",
       " Substring(20, 21, 'л'),\n",
       " Substring(22, 23, '('),\n",
       " Substring(23, 28, '50/64'),\n",
       " Substring(29, 32, 'см³'),\n",
       " Substring(32, 33, ','),\n",
       " Substring(34, 37, '516'),\n",
       " Substring(37, 38, ';'),\n",
       " Substring(38, 41, '...'),\n",
       " Substring(41, 42, ')')]"
      ]
     },
     "execution_count": 16,
     "metadata": {},
     "output_type": "execute_result"
    }
   ],
   "source": [
    "from razdel import tokenize, sentenize\n",
    "text = 'Кружка-термос на 0.5л (50/64 см³, 516;...)'\n",
    "list(tokenize(text))"
   ]
  },
  {
   "cell_type": "markdown",
   "metadata": {
    "hidden": true,
    "id": "VrmhCpNdQo6r"
   },
   "source": [
    "#### Регулярные выражения\n",
    "\n",
    "Исчерпывающий пост https://habr.com/ru/post/349860/"
   ]
  },
  {
   "cell_type": "code",
   "execution_count": 17,
   "metadata": {
    "ExecuteTime": {
     "end_time": "2022-09-05T12:01:19.162684Z",
     "start_time": "2022-09-05T12:01:19.156000Z"
    },
    "colab": {
     "base_uri": "https://localhost:8080/"
    },
    "hidden": true,
    "id": "IccRpcG06Mfd",
    "outputId": "1560c7ef-9dde-45e8-fb5b-0998190cf8ba"
   },
   "outputs": [
    {
     "data": {
      "text/plain": [
       "['super', 'c', 'a', 'a', 'c', 'a', 'c']"
      ]
     },
     "execution_count": 17,
     "metadata": {},
     "output_type": "execute_result"
    }
   ],
   "source": [
    "import re\n",
    "word = 'supercalifragilisticexpialidocious'\n",
    "re.findall('[abc]|up|super', word)"
   ]
  },
  {
   "cell_type": "code",
   "execution_count": 18,
   "metadata": {
    "ExecuteTime": {
     "end_time": "2022-09-05T12:01:19.172174Z",
     "start_time": "2022-09-05T12:01:19.165822Z"
    },
    "colab": {
     "base_uri": "https://localhost:8080/"
    },
    "hidden": true,
    "id": "Je8YPHLZPJW7",
    "outputId": "e731e421-3a25-4039-a40f-18d281952745"
   },
   "outputs": [
    {
     "data": {
      "text/plain": [
       "['49', '432', '312']"
      ]
     },
     "execution_count": 18,
     "metadata": {},
     "output_type": "execute_result"
    }
   ],
   "source": [
    "re.findall('\\d{1,3}', 'These are some numbers: 49 and 432312')"
   ]
  },
  {
   "cell_type": "code",
   "execution_count": 19,
   "metadata": {
    "ExecuteTime": {
     "end_time": "2022-09-05T12:01:19.180342Z",
     "start_time": "2022-09-05T12:01:19.174343Z"
    },
    "colab": {
     "base_uri": "https://localhost:8080/",
     "height": 35
    },
    "hidden": true,
    "id": "fzde8MX1PJXA",
    "outputId": "5d638269-ee23-42df-8ed7-50dd63349c45"
   },
   "outputs": [
    {
     "data": {
      "text/plain": [
       "'How to split text'"
      ]
     },
     "execution_count": 19,
     "metadata": {},
     "output_type": "execute_result"
    }
   ],
   "source": [
    "re.sub('[,\\.?!]','','How, to? split. text!')"
   ]
  },
  {
   "cell_type": "code",
   "execution_count": 20,
   "metadata": {
    "ExecuteTime": {
     "end_time": "2022-09-05T12:01:19.212324Z",
     "start_time": "2022-09-05T12:01:19.182476Z"
    },
    "colab": {
     "base_uri": "https://localhost:8080/"
    },
    "hidden": true,
    "id": "GyswV9nuPJXF",
    "outputId": "d4d23159-3e92-4e1d-f7d1-be6ea5dee092"
   },
   "outputs": [
    {
     "data": {
      "text/plain": [
       "['I', 'can', 'play', 'football']"
      ]
     },
     "execution_count": 20,
     "metadata": {},
     "output_type": "execute_result"
    }
   ],
   "source": [
    "re.sub('[^A-z]',' ','I 123 can 45 play 67 football').split()"
   ]
  },
  {
   "cell_type": "markdown",
   "metadata": {
    "hidden": true,
    "id": "Mz0wIRkRswOQ"
   },
   "source": [
    "### Удаление неинформативных слов"
   ]
  },
  {
   "cell_type": "markdown",
   "metadata": {
    "hidden": true,
    "id": "trdPOBM2jEMf"
   },
   "source": [
    "#### N-граммы\n",
    "\n",
    "<img src=\"https://res.cloudinary.com/practicaldev/image/fetch/s--466CQV1q--/c_limit%2Cf_auto%2Cfl_progressive%2Cq_66%2Cw_880/https://thepracticaldev.s3.amazonaws.com/i/78nf1vryed8h1tz05fim.gif\" height=400>"
   ]
  },
  {
   "cell_type": "code",
   "execution_count": 21,
   "metadata": {
    "ExecuteTime": {
     "end_time": "2022-09-05T12:01:19.230354Z",
     "start_time": "2022-09-05T12:01:19.217083Z"
    },
    "colab": {
     "base_uri": "https://localhost:8080/"
    },
    "hidden": true,
    "id": "YYEBfCxLic3R",
    "outputId": "1e6f9ac7-a21f-427a-a421-6d936f2f6b68"
   },
   "outputs": [
    {
     "name": "stdout",
     "output_type": "stream",
     "text": [
      "[('all',), ('work',), ('and',), ('no',), ('play',)]\n",
      "[('all', 'work'), ('work', 'and'), ('and', 'no'), ('no', 'play'), ('play', 'makes')]\n"
     ]
    }
   ],
   "source": [
    "unigram = list(nltk.ngrams(tokens, 1))\n",
    "bigram = list(nltk.ngrams(tokens, 2))\n",
    "print(unigram[:5])\n",
    "print(bigram[:5])"
   ]
  },
  {
   "cell_type": "code",
   "execution_count": 22,
   "metadata": {
    "ExecuteTime": {
     "end_time": "2022-09-05T12:01:20.382001Z",
     "start_time": "2022-09-05T12:01:20.376923Z"
    },
    "colab": {
     "base_uri": "https://localhost:8080/"
    },
    "hidden": true,
    "id": "1AFeZqejmWwN",
    "outputId": "8f9fff61-090e-4e05-adc3-f9052610d5bc"
   },
   "outputs": [
    {
     "name": "stdout",
     "output_type": "stream",
     "text": [
      "Популярные униграммы:  [(('all',), 2), (('work',), 2), (('and',), 2), (('no',), 2), (('play',), 2)]\n",
      "Популярные биграммы:  [(('all', 'work'), 2), (('work', 'and'), 2), (('and', 'no'), 2), (('no', 'play'), 2), (('play', 'makes'), 1)]\n"
     ]
    }
   ],
   "source": [
    "from nltk import FreqDist\n",
    "print('Популярные униграммы: ', FreqDist(unigram).most_common(5))\n",
    "print('Популярные биграммы: ', FreqDist(bigram).most_common(5))"
   ]
  },
  {
   "cell_type": "markdown",
   "metadata": {
    "hidden": true,
    "id": "3W3jJ56hnBFu"
   },
   "source": [
    "#### Стоп-слова"
   ]
  },
  {
   "cell_type": "code",
   "execution_count": 23,
   "metadata": {
    "ExecuteTime": {
     "end_time": "2022-09-05T12:01:21.425616Z",
     "start_time": "2022-09-05T12:01:21.416497Z"
    },
    "colab": {
     "base_uri": "https://localhost:8080/"
    },
    "hidden": true,
    "id": "sIBwQ3nBnEfV",
    "outputId": "5f6c8413-a652-4ea6-9b6d-450e099075cb"
   },
   "outputs": [
    {
     "name": "stderr",
     "output_type": "stream",
     "text": [
      "[nltk_data] Downloading package stopwords to\n",
      "[nltk_data]     /Users/antonermak/nltk_data...\n",
      "[nltk_data]   Package stopwords is already up-to-date!\n"
     ]
    }
   ],
   "source": [
    "nltk.download('stopwords')\n",
    "from nltk.corpus import stopwords"
   ]
  },
  {
   "cell_type": "code",
   "execution_count": 24,
   "metadata": {
    "ExecuteTime": {
     "end_time": "2022-09-05T12:01:21.819747Z",
     "start_time": "2022-09-05T12:01:21.811972Z"
    },
    "colab": {
     "base_uri": "https://localhost:8080/"
    },
    "hidden": true,
    "id": "o1nk-TqEslRl",
    "outputId": "e56801a2-c8bf-479a-f1e8-ed312cdb3a9a"
   },
   "outputs": [
    {
     "name": "stdout",
     "output_type": "stream",
     "text": [
      "{'this', 'both', 'm', 'you', 'on', 'herself', 'until', 'not', 'and', 'before', 'she', 'hers', 'having', 's', \"you'd\", 'them', 'am', 'only', 'did', 'more', 'during', 'now', 'are', 'own', 'by', \"hadn't\", 'him', 'any', 'few', \"isn't\", 'wouldn', 'yourselves', 'against', 'wasn', 'were', 'from', 'himself', 'haven', 'your', \"didn't\", 'mustn', 'he', \"you'll\", \"she's\", \"don't\", 'there', \"wasn't\", 'i', 'between', 'themselves', 'itself', 'hasn', 'about', 'our', 'up', 'being', 'weren', 'no', 'should', 'can', 'but', 'or', \"it's\", 'have', 'do', 'which', 'further', 're', 'those', 'it', 'with', 'than', 'of', 'a', 'ourselves', 'an', 'for', 'such', 'o', 'as', 'off', 'don', 'doing', \"mightn't\", 'been', 'didn', 'through', 'ma', \"should've\", 'nor', 'is', 'they', 'under', 'then', 'here', 'd', 'mightn', 'aren', 've', 'yourself', \"shan't\", 'over', 'll', 'above', \"weren't\", 'each', 'shan', 'these', 'when', 'very', \"aren't\", \"shouldn't\", 'once', 'was', \"haven't\", 'we', 'most', 'other', 'out', 'its', 'again', 'their', 'in', 'to', 'theirs', 'yours', 'how', 'some', 'ain', 'isn', 'the', 'ours', 'why', 'my', 'just', 't', 'does', 'won', \"doesn't\", 'her', \"you've\", 'that', \"you're\", 'y', 'too', 'will', \"won't\", \"couldn't\", 'if', \"mustn't\", 'me', 'all', 'his', 'couldn', 'needn', 'down', 'where', \"wouldn't\", 'be', 'below', 'into', 'so', \"needn't\", 'same', 'myself', 'who', 'whom', 'shouldn', 'while', 'had', 'what', 'at', 'doesn', \"hasn't\", 'hadn', \"that'll\", 'after', 'has', 'because'}\n"
     ]
    }
   ],
   "source": [
    "stopWords = set(stopwords.words('english'))\n",
    "print(stopWords)"
   ]
  },
  {
   "cell_type": "code",
   "execution_count": 25,
   "metadata": {
    "ExecuteTime": {
     "end_time": "2022-09-05T12:01:22.351896Z",
     "start_time": "2022-09-05T12:01:22.342186Z"
    },
    "colab": {
     "base_uri": "https://localhost:8080/"
    },
    "hidden": true,
    "id": "KFkfJm9ktAVa",
    "outputId": "11e85df4-d2e6-4f9f-ff23-f6cc50fee22b"
   },
   "outputs": [
    {
     "name": "stdout",
     "output_type": "stream",
     "text": [
      "['work', 'play', 'makes', 'jack', 'dull', 'boy', ',', 'work', 'play']\n"
     ]
    }
   ],
   "source": [
    "print([word for word in tokens if word not in stopWords])"
   ]
  },
  {
   "cell_type": "code",
   "execution_count": 26,
   "metadata": {
    "ExecuteTime": {
     "end_time": "2022-09-05T12:01:22.905526Z",
     "start_time": "2022-09-05T12:01:22.902235Z"
    },
    "colab": {
     "base_uri": "https://localhost:8080/"
    },
    "hidden": true,
    "id": "e5QoqlHiS83f",
    "outputId": "628de9cf-0e10-48ee-e743-448512a7cd13"
   },
   "outputs": [
    {
     "name": "stdout",
     "output_type": "stream",
     "text": [
      "!\"#$%&'()*+,-./:;<=>?@[\\]^_`{|}~\n"
     ]
    }
   ],
   "source": [
    "import string\n",
    "print(string.punctuation)"
   ]
  },
  {
   "cell_type": "markdown",
   "metadata": {
    "hidden": true,
    "id": "Bh-MYv6e-skM"
   },
   "source": [
    "#### Стемминг vs Лемматизация\n",
    "* ‘Caring’ -> Лемматизация -> ‘Care’\n",
    "* ‘Caring’ -> Стемминг -> ‘Car’"
   ]
  },
  {
   "cell_type": "markdown",
   "metadata": {
    "hidden": true,
    "id": "aAUKc1oTiQjf"
   },
   "source": [
    "### Стемминг\n",
    "* процесс нахождения основы слова для заданного исходного слова"
   ]
  },
  {
   "cell_type": "code",
   "execution_count": 27,
   "metadata": {
    "ExecuteTime": {
     "end_time": "2022-09-05T12:01:26.898540Z",
     "start_time": "2022-09-05T12:01:26.894437Z"
    },
    "hidden": true,
    "id": "iRVu-TrON4sq"
   },
   "outputs": [],
   "source": [
    "from nltk.stem import PorterStemmer, SnowballStemmer\n",
    "words = [\"game\", \"gaming\", \"gamed\", \"games\", \"compacted\"]\n",
    "words_ru = ['корова', 'мальчики', 'мужчины', 'столом', 'убежала']"
   ]
  },
  {
   "cell_type": "code",
   "execution_count": 28,
   "metadata": {
    "ExecuteTime": {
     "end_time": "2022-09-05T12:01:27.111223Z",
     "start_time": "2022-09-05T12:01:27.105422Z"
    },
    "colab": {
     "base_uri": "https://localhost:8080/"
    },
    "hidden": true,
    "id": "L9HTGfsBN9eX",
    "outputId": "e4392b8d-20cb-4a60-9a09-1326d2fdf3f3"
   },
   "outputs": [
    {
     "data": {
      "text/plain": [
       "['game', 'game', 'game', 'game', 'compact']"
      ]
     },
     "execution_count": 28,
     "metadata": {},
     "output_type": "execute_result"
    }
   ],
   "source": [
    "ps = PorterStemmer()\n",
    "list(map(ps.stem, words))"
   ]
  },
  {
   "cell_type": "markdown",
   "metadata": {
    "hidden": true
   },
   "source": [
    "SnowballStemmer - усовершенственная версия PorterStemmer, поддерживает русский язык"
   ]
  },
  {
   "cell_type": "code",
   "execution_count": 29,
   "metadata": {
    "ExecuteTime": {
     "end_time": "2022-09-05T12:01:28.672756Z",
     "start_time": "2022-09-05T12:01:28.667036Z"
    },
    "colab": {
     "base_uri": "https://localhost:8080/"
    },
    "hidden": true,
    "id": "U5qZkB-oODkW",
    "outputId": "b2094c0b-6f4f-431b-801e-107fac105e9f"
   },
   "outputs": [
    {
     "data": {
      "text/plain": [
       "['коров', 'мальчик', 'мужчин', 'стол', 'убежа']"
      ]
     },
     "execution_count": 29,
     "metadata": {},
     "output_type": "execute_result"
    }
   ],
   "source": [
    "ss = SnowballStemmer(language='russian')\n",
    "list(map(ss.stem, words_ru))"
   ]
  },
  {
   "cell_type": "markdown",
   "metadata": {
    "hidden": true,
    "id": "FbTXbi9FJXr1"
   },
   "source": [
    "### Лематизация\n",
    "* процесс приведения словоформы к лемме — её нормальной (словарной) форме"
   ]
  },
  {
   "cell_type": "code",
   "execution_count": 30,
   "metadata": {
    "ExecuteTime": {
     "end_time": "2022-09-05T12:01:29.339213Z",
     "start_time": "2022-09-05T12:01:29.335343Z"
    },
    "hidden": true,
    "id": "QF4nnEz00thb"
   },
   "outputs": [],
   "source": [
    "raw = \"\"\"DENNIS: Listen, strange women lying in ponds distributing swords\n",
    "is no basis for a system of government.  Supreme executive power derives from\n",
    "a mandate from the masses, not from some farcical aquatic ceremony.\"\"\"\n",
    "\n",
    "raw_ru = \"\"\"Не существует научных доказательств в пользу эффективности НЛП, оно \n",
    "признано псевдонаукой. Систематические обзоры указывают, что НЛП основано на \n",
    "устаревших представлениях об устройстве мозга, несовместимо с современной \n",
    "неврологией и содержит ряд фактических ошибок.\"\"\""
   ]
  },
  {
   "cell_type": "markdown",
   "metadata": {
    "hidden": true
   },
   "source": [
    "pymorphy2 - rule-based, только на основе слова, бзе контекста"
   ]
  },
  {
   "cell_type": "code",
   "execution_count": 31,
   "metadata": {
    "ExecuteTime": {
     "end_time": "2022-09-05T12:01:34.972314Z",
     "start_time": "2022-09-05T12:01:30.700047Z"
    },
    "colab": {
     "base_uri": "https://localhost:8080/"
    },
    "hidden": true,
    "id": "mljfOAC4n21I",
    "outputId": "5bf02a63-b1cd-4923-cef6-610c496bad73"
   },
   "outputs": [],
   "source": [
    "!pip install -q pymorphy2"
   ]
  },
  {
   "cell_type": "code",
   "execution_count": 32,
   "metadata": {
    "ExecuteTime": {
     "end_time": "2022-09-05T12:01:35.349573Z",
     "start_time": "2022-09-05T12:01:34.979959Z"
    },
    "colab": {
     "base_uri": "https://localhost:8080/"
    },
    "hidden": true,
    "id": "-Zez7jnXl5uJ",
    "outputId": "51782962-44ee-431d-c025-5a70226bf9e7"
   },
   "outputs": [
    {
     "name": "stdout",
     "output_type": "stream",
     "text": [
      "не существовать научный доказательство в польза эффективность нлп, оно \n",
      "признать псевдонаукой. систематический обзор указывают, что нлп основать на \n",
      "устаревший представление о устройство мозга, несовместимый с современный \n",
      "неврология и содержать ряд фактический ошибок.\n"
     ]
    }
   ],
   "source": [
    "# 1\n",
    "import pymorphy2\n",
    "morph = pymorphy2.MorphAnalyzer()\n",
    "pymorphy_results = list(map(lambda x: morph.parse(x), raw_ru.split(' ')))\n",
    "print(' '.join([res[0].normal_form for res in pymorphy_results]))"
   ]
  },
  {
   "cell_type": "code",
   "execution_count": 33,
   "metadata": {
    "ExecuteTime": {
     "end_time": "2022-09-05T12:01:47.845629Z",
     "start_time": "2022-09-05T12:01:47.831156Z"
    },
    "hidden": true
   },
   "outputs": [
    {
     "data": {
      "text/plain": [
       "[[Parse(word='не', tag=OpencorporaTag('PRCL'), normal_form='не', score=1.0, methods_stack=((DictionaryAnalyzer(), 'не', 22, 0),))],\n",
       " [Parse(word='существует', tag=OpencorporaTag('VERB,impf,intr sing,3per,pres,indc'), normal_form='существовать', score=1.0, methods_stack=((DictionaryAnalyzer(), 'существует', 177, 5),))],\n",
       " [Parse(word='научных', tag=OpencorporaTag('ADJF,Qual plur,gent'), normal_form='научный', score=0.774193, methods_stack=((DictionaryAnalyzer(), 'научных', 12, 21),)),\n",
       "  Parse(word='научных', tag=OpencorporaTag('ADJF,Qual plur,loct'), normal_form='научный', score=0.209677, methods_stack=((DictionaryAnalyzer(), 'научных', 12, 26),)),\n",
       "  Parse(word='научных', tag=OpencorporaTag('ADJF,Qual anim,plur,accs'), normal_form='научный', score=0.016129, methods_stack=((DictionaryAnalyzer(), 'научных', 12, 23),))],\n",
       " [Parse(word='доказательств', tag=OpencorporaTag('NOUN,inan,neut plur,gent'), normal_form='доказательство', score=1.0, methods_stack=((DictionaryAnalyzer(), 'доказательств', 54, 7),))],\n",
       " [Parse(word='в', tag=OpencorporaTag('PREP'), normal_form='в', score=0.999327, methods_stack=((DictionaryAnalyzer(), 'в', 393, 0),)),\n",
       "  Parse(word='в', tag=OpencorporaTag('NOUN,inan,masc,Fixd,Abbr sing,gent'), normal_form='в', score=0.000249, methods_stack=((DictionaryAnalyzer(), 'в', 349, 1),)),\n",
       "  Parse(word='в', tag=OpencorporaTag('NOUN,inan,masc,Fixd,Abbr sing,loct'), normal_form='в', score=5.7e-05, methods_stack=((DictionaryAnalyzer(), 'в', 349, 5),)),\n",
       "  Parse(word='в', tag=OpencorporaTag('NOUN,inan,masc,Fixd,Abbr sing,nomn'), normal_form='в', score=1.9e-05, methods_stack=((DictionaryAnalyzer(), 'в', 349, 0),)),\n",
       "  Parse(word='в', tag=OpencorporaTag('NOUN,inan,masc,Fixd,Abbr sing,datv'), normal_form='в', score=1.9e-05, methods_stack=((DictionaryAnalyzer(), 'в', 349, 2),)),\n",
       "  Parse(word='в', tag=OpencorporaTag('NOUN,inan,masc,Fixd,Abbr sing,accs'), normal_form='в', score=1.9e-05, methods_stack=((DictionaryAnalyzer(), 'в', 349, 3),)),\n",
       "  Parse(word='в', tag=OpencorporaTag('NOUN,inan,masc,Fixd,Abbr sing,ablt'), normal_form='в', score=1.9e-05, methods_stack=((DictionaryAnalyzer(), 'в', 349, 4),)),\n",
       "  Parse(word='в', tag=OpencorporaTag('NOUN,inan,masc,Fixd,Abbr plur,nomn'), normal_form='в', score=1.9e-05, methods_stack=((DictionaryAnalyzer(), 'в', 349, 6),)),\n",
       "  Parse(word='в', tag=OpencorporaTag('NOUN,inan,masc,Fixd,Abbr plur,gent'), normal_form='в', score=1.9e-05, methods_stack=((DictionaryAnalyzer(), 'в', 349, 7),)),\n",
       "  Parse(word='в', tag=OpencorporaTag('NOUN,inan,masc,Fixd,Abbr plur,datv'), normal_form='в', score=1.9e-05, methods_stack=((DictionaryAnalyzer(), 'в', 349, 8),)),\n",
       "  Parse(word='в', tag=OpencorporaTag('NOUN,inan,masc,Fixd,Abbr plur,accs'), normal_form='в', score=1.9e-05, methods_stack=((DictionaryAnalyzer(), 'в', 349, 9),)),\n",
       "  Parse(word='в', tag=OpencorporaTag('NOUN,inan,masc,Fixd,Abbr plur,ablt'), normal_form='в', score=1.9e-05, methods_stack=((DictionaryAnalyzer(), 'в', 349, 10),)),\n",
       "  Parse(word='в', tag=OpencorporaTag('NOUN,inan,masc,Fixd,Abbr plur,loct'), normal_form='в', score=1.9e-05, methods_stack=((DictionaryAnalyzer(), 'в', 349, 11),))],\n",
       " [Parse(word='пользу', tag=OpencorporaTag('NOUN,inan,femn sing,accs'), normal_form='польза', score=1.0, methods_stack=((DictionaryAnalyzer(), 'пользу', 55, 3),))],\n",
       " [Parse(word='эффективности', tag=OpencorporaTag('NOUN,inan,femn sing,gent'), normal_form='эффективность', score=0.666666, methods_stack=((DictionaryAnalyzer(), 'эффективности', 13, 1),)),\n",
       "  Parse(word='эффективности', tag=OpencorporaTag('NOUN,inan,femn sing,loct'), normal_form='эффективность', score=0.212121, methods_stack=((DictionaryAnalyzer(), 'эффективности', 13, 5),)),\n",
       "  Parse(word='эффективности', tag=OpencorporaTag('NOUN,inan,femn sing,datv'), normal_form='эффективность', score=0.060606, methods_stack=((DictionaryAnalyzer(), 'эффективности', 13, 2),)),\n",
       "  Parse(word='эффективности', tag=OpencorporaTag('NOUN,inan,femn plur,nomn'), normal_form='эффективность', score=0.030303, methods_stack=((DictionaryAnalyzer(), 'эффективности', 13, 6),)),\n",
       "  Parse(word='эффективности', tag=OpencorporaTag('NOUN,inan,femn plur,accs'), normal_form='эффективность', score=0.030303, methods_stack=((DictionaryAnalyzer(), 'эффективности', 13, 9),))],\n",
       " [Parse(word='нлп,', tag=OpencorporaTag('UNKN'), normal_form='нлп,', score=1.0, methods_stack=((UnknAnalyzer(), 'НЛП,'),))],\n",
       " [Parse(word='оно', tag=OpencorporaTag('NPRO,neut,3per,Anph sing,nomn'), normal_form='оно', score=1.0, methods_stack=((DictionaryAnalyzer(), 'оно', 2307, 0),))],\n",
       " [Parse(word='\\nпризнано', tag=OpencorporaTag('PRTS,perf,past,pssv neut,sing'), normal_form='\\nпризнать', score=0.46875, methods_stack=((DictionaryAnalyzer(), 'признано', 648, 73), (UnknownPrefixAnalyzer(score_multiplier=0.5), '\\n'))),\n",
       "  Parse(word='\\nпризнано', tag=OpencorporaTag('PRTS,impf,past,pssv neut,sing'), normal_form='\\nпризнать', score=0.46875, methods_stack=((DictionaryAnalyzer(), 'знано', 321, 130), (UnknownPrefixAnalyzer(score_multiplier=0.5), '\\nпри'))),\n",
       "  Parse(word='\\nпризнано', tag=OpencorporaTag('ADJS neut,sing'), normal_form='\\nпризнанный', score=0.0625, methods_stack=((FakeDictionary(), '\\nпризнано', 512, 29), (KnownSuffixAnalyzer(min_word_length=4, score_multiplier=0.5), 'знано')))],\n",
       " [Parse(word='псевдонаукой.', tag=OpencorporaTag('UNKN'), normal_form='псевдонаукой.', score=1.0, methods_stack=((UnknAnalyzer(), 'наукой.'), (KnownPrefixAnalyzer(known_prefixes=<...>, min_remainder_length=3, score_multiplier=0.75), 'псевдо')))],\n",
       " [Parse(word='систематические', tag=OpencorporaTag('ADJF plur,nomn'), normal_form='систематический', score=0.75, methods_stack=((DictionaryAnalyzer(), 'систематические', 16, 20),)),\n",
       "  Parse(word='систематические', tag=OpencorporaTag('ADJF inan,plur,accs'), normal_form='систематический', score=0.25, methods_stack=((DictionaryAnalyzer(), 'систематические', 16, 24),))],\n",
       " [Parse(word='обзоры', tag=OpencorporaTag('NOUN,inan,masc plur,nomn'), normal_form='обзор', score=0.5, methods_stack=((DictionaryAnalyzer(), 'обзоры', 34, 6),)),\n",
       "  Parse(word='обзоры', tag=OpencorporaTag('NOUN,inan,masc plur,accs'), normal_form='обзор', score=0.5, methods_stack=((DictionaryAnalyzer(), 'обзоры', 34, 9),))],\n",
       " [Parse(word='указывают,', tag=OpencorporaTag('UNKN'), normal_form='указывают,', score=1.0, methods_stack=((UnknAnalyzer(), 'указывают,'),))],\n",
       " [Parse(word='что', tag=OpencorporaTag('CONJ'), normal_form='что', score=0.922033, methods_stack=((DictionaryAnalyzer(), 'что', 3185, 0),)),\n",
       "  Parse(word='что', tag=OpencorporaTag('PRCL'), normal_form='что', score=0.030508, methods_stack=((DictionaryAnalyzer(), 'что', 3260, 0),)),\n",
       "  Parse(word='что', tag=OpencorporaTag('NPRO,neut sing,accs'), normal_form='что', score=0.020338, methods_stack=((DictionaryAnalyzer(), 'что', 3186, 3),)),\n",
       "  Parse(word='что', tag=OpencorporaTag('NPRO,neut sing,nomn'), normal_form='что', score=0.016949, methods_stack=((DictionaryAnalyzer(), 'что', 3186, 0),)),\n",
       "  Parse(word='что', tag=OpencorporaTag('ADVB,Ques'), normal_form='что', score=0.010169, methods_stack=((DictionaryAnalyzer(), 'что', 3187, 0),))],\n",
       " [Parse(word='нлп', tag=OpencorporaTag('UNKN'), normal_form='нлп', score=1.0, methods_stack=((UnknAnalyzer(), 'НЛП'),))],\n",
       " [Parse(word='основано', tag=OpencorporaTag('PRTS,perf,past,pssv neut,sing'), normal_form='основать', score=1.0, methods_stack=((DictionaryAnalyzer(), 'основано', 843, 73),))],\n",
       " [Parse(word='на', tag=OpencorporaTag('PREP'), normal_form='на', score=0.998961, methods_stack=((DictionaryAnalyzer(), 'на', 24, 0),)),\n",
       "  Parse(word='на', tag=OpencorporaTag('PRCL'), normal_form='на', score=0.000849, methods_stack=((DictionaryAnalyzer(), 'на', 22, 0),)),\n",
       "  Parse(word='на', tag=OpencorporaTag('INTJ'), normal_form='на', score=0.000188, methods_stack=((DictionaryAnalyzer(), 'на', 21, 0),))],\n",
       " [Parse(word='\\nустаревших', tag=OpencorporaTag('ADJF plur,gent'), normal_form='\\nустаревший', score=0.11069805865344902, methods_stack=((DictionaryAnalyzer(), 'устаревших', 1023, 21), (UnknownPrefixAnalyzer(score_multiplier=0.5), '\\n'))),\n",
       "  Parse(word='\\nустаревших', tag=OpencorporaTag('ADJF anim,plur,accs'), normal_form='\\nустаревший', score=0.11069805865344902, methods_stack=((DictionaryAnalyzer(), 'устаревших', 1023, 23), (UnknownPrefixAnalyzer(score_multiplier=0.5), '\\n'))),\n",
       "  Parse(word='\\nустаревших', tag=OpencorporaTag('ADJF plur,loct'), normal_form='\\nустаревший', score=0.11069805865344902, methods_stack=((DictionaryAnalyzer(), 'устаревших', 1023, 26), (UnknownPrefixAnalyzer(score_multiplier=0.5), '\\n'))),\n",
       "  Parse(word='\\nустаревших', tag=OpencorporaTag('PRTF,perf,intr,past,actv plur,gent'), normal_form='\\nустареть', score=0.11069805865344902, methods_stack=((DictionaryAnalyzer(), 'устаревших', 749, 36), (UnknownPrefixAnalyzer(score_multiplier=0.5), '\\n'))),\n",
       "  Parse(word='\\nустаревших', tag=OpencorporaTag('PRTF,perf,intr,past,actv anim,plur,accs'), normal_form='\\nустареть', score=0.11069805865344902, methods_stack=((DictionaryAnalyzer(), 'устаревших', 749, 38), (UnknownPrefixAnalyzer(score_multiplier=0.5), '\\n'))),\n",
       "  Parse(word='\\nустаревших', tag=OpencorporaTag('PRTF,perf,intr,past,actv plur,loct'), normal_form='\\nустареть', score=0.11069805865344902, methods_stack=((DictionaryAnalyzer(), 'устаревших', 749, 41), (UnknownPrefixAnalyzer(score_multiplier=0.5), '\\n'))),\n",
       "  Parse(word='\\nустаревших', tag=OpencorporaTag('PRTF,impf,intr,past,actv plur,gent'), normal_form='\\nустареть', score=0.11069805865344902, methods_stack=((DictionaryAnalyzer(), 'старевших', 15, 61), (UnknownPrefixAnalyzer(score_multiplier=0.5), '\\nу'))),\n",
       "  Parse(word='\\nустаревших', tag=OpencorporaTag('PRTF,impf,intr,past,actv anim,plur,accs'), normal_form='\\nустареть', score=0.11069805865344902, methods_stack=((DictionaryAnalyzer(), 'старевших', 15, 63), (UnknownPrefixAnalyzer(score_multiplier=0.5), '\\nу'))),\n",
       "  Parse(word='\\nустаревших', tag=OpencorporaTag('PRTF,impf,intr,past,actv plur,loct'), normal_form='\\nустареть', score=0.11069805865344902, methods_stack=((DictionaryAnalyzer(), 'старевших', 15, 66), (UnknownPrefixAnalyzer(score_multiplier=0.5), '\\nу'))),\n",
       "  Parse(word='\\nустаревших', tag=OpencorporaTag('ADJF plur,gent'), normal_form='\\nустаревший', score=0.0012391573729863695, methods_stack=((FakeDictionary(), '\\nустаревших', 101, 21), (KnownSuffixAnalyzer(min_word_length=4, score_multiplier=0.5), 'евших'))),\n",
       "  Parse(word='\\nустаревших', tag=OpencorporaTag('ADJF anim,plur,accs'), normal_form='\\nустаревший', score=0.0012391573729863695, methods_stack=((FakeDictionary(), '\\nустаревших', 101, 23), (KnownSuffixAnalyzer(min_word_length=4, score_multiplier=0.5), 'евших'))),\n",
       "  Parse(word='\\nустаревших', tag=OpencorporaTag('ADJF plur,loct'), normal_form='\\nустаревший', score=0.0012391573729863695, methods_stack=((FakeDictionary(), '\\nустаревших', 101, 26), (KnownSuffixAnalyzer(min_word_length=4, score_multiplier=0.5), 'евших')))],\n",
       " [Parse(word='представлениях', tag=OpencorporaTag('NOUN,inan,neut plur,loct'), normal_form='представление', score=1.0, methods_stack=((DictionaryAnalyzer(), 'представлениях', 77, 22),))],\n",
       " [Parse(word='об', tag=OpencorporaTag('PREP Vpre'), normal_form='о', score=0.990595, methods_stack=((DictionaryAnalyzer(), 'об', 2226, 1),)),\n",
       "  Parse(word='об', tag=OpencorporaTag('NOUN,inan,masc,Fixd,Abbr sing,nomn'), normal_form='об', score=0.000783, methods_stack=((DictionaryAnalyzer(), 'об', 349, 0),)),\n",
       "  Parse(word='об', tag=OpencorporaTag('NOUN,inan,masc,Fixd,Abbr sing,gent'), normal_form='об', score=0.000783, methods_stack=((DictionaryAnalyzer(), 'об', 349, 1),)),\n",
       "  Parse(word='об', tag=OpencorporaTag('NOUN,inan,masc,Fixd,Abbr sing,datv'), normal_form='об', score=0.000783, methods_stack=((DictionaryAnalyzer(), 'об', 349, 2),)),\n",
       "  Parse(word='об', tag=OpencorporaTag('NOUN,inan,masc,Fixd,Abbr sing,accs'), normal_form='об', score=0.000783, methods_stack=((DictionaryAnalyzer(), 'об', 349, 3),)),\n",
       "  Parse(word='об', tag=OpencorporaTag('NOUN,inan,masc,Fixd,Abbr sing,ablt'), normal_form='об', score=0.000783, methods_stack=((DictionaryAnalyzer(), 'об', 349, 4),)),\n",
       "  Parse(word='об', tag=OpencorporaTag('NOUN,inan,masc,Fixd,Abbr sing,loct'), normal_form='об', score=0.000783, methods_stack=((DictionaryAnalyzer(), 'об', 349, 5),)),\n",
       "  Parse(word='об', tag=OpencorporaTag('NOUN,inan,masc,Fixd,Abbr plur,nomn'), normal_form='об', score=0.000783, methods_stack=((DictionaryAnalyzer(), 'об', 349, 6),)),\n",
       "  Parse(word='об', tag=OpencorporaTag('NOUN,inan,masc,Fixd,Abbr plur,gent'), normal_form='об', score=0.000783, methods_stack=((DictionaryAnalyzer(), 'об', 349, 7),)),\n",
       "  Parse(word='об', tag=OpencorporaTag('NOUN,inan,masc,Fixd,Abbr plur,datv'), normal_form='об', score=0.000783, methods_stack=((DictionaryAnalyzer(), 'об', 349, 8),)),\n",
       "  Parse(word='об', tag=OpencorporaTag('NOUN,inan,masc,Fixd,Abbr plur,accs'), normal_form='об', score=0.000783, methods_stack=((DictionaryAnalyzer(), 'об', 349, 9),)),\n",
       "  Parse(word='об', tag=OpencorporaTag('NOUN,inan,masc,Fixd,Abbr plur,ablt'), normal_form='об', score=0.000783, methods_stack=((DictionaryAnalyzer(), 'об', 349, 10),)),\n",
       "  Parse(word='об', tag=OpencorporaTag('NOUN,inan,masc,Fixd,Abbr plur,loct'), normal_form='об', score=0.000783, methods_stack=((DictionaryAnalyzer(), 'об', 349, 11),))],\n",
       " [Parse(word='устройстве', tag=OpencorporaTag('NOUN,inan,neut sing,loct'), normal_form='устройство', score=1.0, methods_stack=((DictionaryAnalyzer(), 'устройстве', 54, 5),))],\n",
       " [Parse(word='мозга,', tag=OpencorporaTag('UNKN'), normal_form='мозга,', score=1.0, methods_stack=((UnknAnalyzer(), 'мозга,'),))],\n",
       " [Parse(word='несовместимо', tag=OpencorporaTag('ADJS,Qual neut,sing'), normal_form='несовместимый', score=1.0, methods_stack=((DictionaryAnalyzer(), 'несовместимо', 4, 29),))],\n",
       " [Parse(word='с', tag=OpencorporaTag('PREP'), normal_form='с', score=0.997625, methods_stack=((DictionaryAnalyzer(), 'с', 393, 0),)),\n",
       "  Parse(word='с', tag=OpencorporaTag('NOUN,inan,femn,Fixd,Abbr plur,nomn'), normal_form='с', score=0.000407, methods_stack=((DictionaryAnalyzer(), 'с', 214, 6),)),\n",
       "  Parse(word='с', tag=OpencorporaTag('PRCL'), normal_form='с', score=0.000271, methods_stack=((DictionaryAnalyzer(), 'с', 22, 0),)),\n",
       "  Parse(word='с', tag=OpencorporaTag('NOUN,inan,femn,Fixd,Abbr sing,nomn'), normal_form='с', score=6.7e-05, methods_stack=((DictionaryAnalyzer(), 'с', 214, 0),)),\n",
       "  Parse(word='с', tag=OpencorporaTag('NOUN,inan,femn,Fixd,Abbr sing,gent'), normal_form='с', score=6.7e-05, methods_stack=((DictionaryAnalyzer(), 'с', 214, 1),)),\n",
       "  Parse(word='с', tag=OpencorporaTag('NOUN,inan,femn,Fixd,Abbr sing,datv'), normal_form='с', score=6.7e-05, methods_stack=((DictionaryAnalyzer(), 'с', 214, 2),)),\n",
       "  Parse(word='с', tag=OpencorporaTag('NOUN,inan,femn,Fixd,Abbr sing,accs'), normal_form='с', score=6.7e-05, methods_stack=((DictionaryAnalyzer(), 'с', 214, 3),)),\n",
       "  Parse(word='с', tag=OpencorporaTag('NOUN,inan,femn,Fixd,Abbr sing,ablt'), normal_form='с', score=6.7e-05, methods_stack=((DictionaryAnalyzer(), 'с', 214, 4),)),\n",
       "  Parse(word='с', tag=OpencorporaTag('NOUN,inan,femn,Fixd,Abbr sing,loct'), normal_form='с', score=6.7e-05, methods_stack=((DictionaryAnalyzer(), 'с', 214, 5),)),\n",
       "  Parse(word='с', tag=OpencorporaTag('NOUN,inan,femn,Fixd,Abbr plur,gent'), normal_form='с', score=6.7e-05, methods_stack=((DictionaryAnalyzer(), 'с', 214, 7),)),\n",
       "  Parse(word='с', tag=OpencorporaTag('NOUN,inan,femn,Fixd,Abbr plur,datv'), normal_form='с', score=6.7e-05, methods_stack=((DictionaryAnalyzer(), 'с', 214, 8),)),\n",
       "  Parse(word='с', tag=OpencorporaTag('NOUN,inan,femn,Fixd,Abbr plur,accs'), normal_form='с', score=6.7e-05, methods_stack=((DictionaryAnalyzer(), 'с', 214, 9),)),\n",
       "  Parse(word='с', tag=OpencorporaTag('NOUN,inan,femn,Fixd,Abbr plur,ablt'), normal_form='с', score=6.7e-05, methods_stack=((DictionaryAnalyzer(), 'с', 214, 10),)),\n",
       "  Parse(word='с', tag=OpencorporaTag('NOUN,inan,femn,Fixd,Abbr plur,loct'), normal_form='с', score=6.7e-05, methods_stack=((DictionaryAnalyzer(), 'с', 214, 11),)),\n",
       "  Parse(word='с', tag=OpencorporaTag('NOUN,inan,neut,Fixd,Abbr sing,nomn'), normal_form='с', score=6.7e-05, methods_stack=((DictionaryAnalyzer(), 'с', 812, 0),)),\n",
       "  Parse(word='с', tag=OpencorporaTag('NOUN,inan,neut,Fixd,Abbr sing,gent'), normal_form='с', score=6.7e-05, methods_stack=((DictionaryAnalyzer(), 'с', 812, 1),)),\n",
       "  Parse(word='с', tag=OpencorporaTag('NOUN,inan,neut,Fixd,Abbr sing,datv'), normal_form='с', score=6.7e-05, methods_stack=((DictionaryAnalyzer(), 'с', 812, 2),)),\n",
       "  Parse(word='с', tag=OpencorporaTag('NOUN,inan,neut,Fixd,Abbr sing,accs'), normal_form='с', score=6.7e-05, methods_stack=((DictionaryAnalyzer(), 'с', 812, 3),)),\n",
       "  Parse(word='с', tag=OpencorporaTag('NOUN,inan,neut,Fixd,Abbr sing,ablt'), normal_form='с', score=6.7e-05, methods_stack=((DictionaryAnalyzer(), 'с', 812, 4),)),\n",
       "  Parse(word='с', tag=OpencorporaTag('NOUN,inan,neut,Fixd,Abbr sing,loct'), normal_form='с', score=6.7e-05, methods_stack=((DictionaryAnalyzer(), 'с', 812, 5),)),\n",
       "  Parse(word='с', tag=OpencorporaTag('NOUN,inan,neut,Fixd,Abbr plur,nomn'), normal_form='с', score=6.7e-05, methods_stack=((DictionaryAnalyzer(), 'с', 812, 6),)),\n",
       "  Parse(word='с', tag=OpencorporaTag('NOUN,inan,neut,Fixd,Abbr plur,gent'), normal_form='с', score=6.7e-05, methods_stack=((DictionaryAnalyzer(), 'с', 812, 7),)),\n",
       "  Parse(word='с', tag=OpencorporaTag('NOUN,inan,neut,Fixd,Abbr plur,datv'), normal_form='с', score=6.7e-05, methods_stack=((DictionaryAnalyzer(), 'с', 812, 8),)),\n",
       "  Parse(word='с', tag=OpencorporaTag('NOUN,inan,neut,Fixd,Abbr plur,accs'), normal_form='с', score=6.7e-05, methods_stack=((DictionaryAnalyzer(), 'с', 812, 9),)),\n",
       "  Parse(word='с', tag=OpencorporaTag('NOUN,inan,neut,Fixd,Abbr plur,ablt'), normal_form='с', score=6.7e-05, methods_stack=((DictionaryAnalyzer(), 'с', 812, 10),)),\n",
       "  Parse(word='с', tag=OpencorporaTag('NOUN,inan,neut,Fixd,Abbr plur,loct'), normal_form='с', score=6.7e-05, methods_stack=((DictionaryAnalyzer(), 'с', 812, 11),))],\n",
       " [Parse(word='современной', tag=OpencorporaTag('ADJF,Qual femn,sing,gent'), normal_form='современный', score=0.529914, methods_stack=((DictionaryAnalyzer(), 'современной', 686, 8),)),\n",
       "  Parse(word='современной', tag=OpencorporaTag('ADJF,Qual femn,sing,loct'), normal_form='современный', score=0.324786, methods_stack=((DictionaryAnalyzer(), 'современной', 686, 13),)),\n",
       "  Parse(word='современной', tag=OpencorporaTag('ADJF,Qual femn,sing,ablt'), normal_form='современный', score=0.076923, methods_stack=((DictionaryAnalyzer(), 'современной', 686, 11),)),\n",
       "  Parse(word='современной', tag=OpencorporaTag('ADJF,Qual femn,sing,datv'), normal_form='современный', score=0.068376, methods_stack=((DictionaryAnalyzer(), 'современной', 686, 9),))],\n",
       " [Parse(word='\\nневрологией', tag=OpencorporaTag('NOUN,inan,femn sing,ablt'), normal_form='\\nневрология', score=1.0, methods_stack=((DictionaryAnalyzer(), 'неврологией', 41, 4), (UnknownPrefixAnalyzer(score_multiplier=0.5), '\\n')))],\n",
       " [Parse(word='и', tag=OpencorporaTag('CONJ'), normal_form='и', score=0.998263, methods_stack=((DictionaryAnalyzer(), 'и', 20, 0),)),\n",
       "  Parse(word='и', tag=OpencorporaTag('PRCL'), normal_form='и', score=0.000306, methods_stack=((DictionaryAnalyzer(), 'и', 22, 0),)),\n",
       "  Parse(word='и', tag=OpencorporaTag('INTJ'), normal_form='и', score=0.000204, methods_stack=((DictionaryAnalyzer(), 'и', 21, 0),)),\n",
       "  Parse(word='и', tag=OpencorporaTag('NOUN,anim,masc,Fixd,Abbr sing,nomn'), normal_form='и', score=0.000102, methods_stack=((DictionaryAnalyzer(), 'и', 3289, 0),)),\n",
       "  Parse(word='и', tag=OpencorporaTag('NOUN,anim,masc,Fixd,Abbr sing,gent'), normal_form='и', score=0.000102, methods_stack=((DictionaryAnalyzer(), 'и', 3289, 1),)),\n",
       "  Parse(word='и', tag=OpencorporaTag('NOUN,anim,masc,Fixd,Abbr sing,datv'), normal_form='и', score=0.000102, methods_stack=((DictionaryAnalyzer(), 'и', 3289, 2),)),\n",
       "  Parse(word='и', tag=OpencorporaTag('NOUN,anim,masc,Fixd,Abbr sing,accs'), normal_form='и', score=0.000102, methods_stack=((DictionaryAnalyzer(), 'и', 3289, 3),)),\n",
       "  Parse(word='и', tag=OpencorporaTag('NOUN,anim,masc,Fixd,Abbr sing,ablt'), normal_form='и', score=0.000102, methods_stack=((DictionaryAnalyzer(), 'и', 3289, 4),)),\n",
       "  Parse(word='и', tag=OpencorporaTag('NOUN,anim,masc,Fixd,Abbr sing,loct'), normal_form='и', score=0.000102, methods_stack=((DictionaryAnalyzer(), 'и', 3289, 5),)),\n",
       "  Parse(word='и', tag=OpencorporaTag('NOUN,anim,masc,Fixd,Abbr plur,nomn'), normal_form='и', score=0.000102, methods_stack=((DictionaryAnalyzer(), 'и', 3289, 6),)),\n",
       "  Parse(word='и', tag=OpencorporaTag('NOUN,anim,masc,Fixd,Abbr plur,gent'), normal_form='и', score=0.000102, methods_stack=((DictionaryAnalyzer(), 'и', 3289, 7),)),\n",
       "  Parse(word='и', tag=OpencorporaTag('NOUN,anim,masc,Fixd,Abbr plur,datv'), normal_form='и', score=0.000102, methods_stack=((DictionaryAnalyzer(), 'и', 3289, 8),)),\n",
       "  Parse(word='и', tag=OpencorporaTag('NOUN,anim,masc,Fixd,Abbr plur,accs'), normal_form='и', score=0.000102, methods_stack=((DictionaryAnalyzer(), 'и', 3289, 9),)),\n",
       "  Parse(word='и', tag=OpencorporaTag('NOUN,anim,masc,Fixd,Abbr plur,ablt'), normal_form='и', score=0.000102, methods_stack=((DictionaryAnalyzer(), 'и', 3289, 10),)),\n",
       "  Parse(word='и', tag=OpencorporaTag('NOUN,anim,masc,Fixd,Abbr plur,loct'), normal_form='и', score=0.000102, methods_stack=((DictionaryAnalyzer(), 'и', 3289, 11),))],\n",
       " [Parse(word='содержит', tag=OpencorporaTag('VERB,impf,tran sing,3per,pres,indc'), normal_form='содержать', score=1.0, methods_stack=((DictionaryAnalyzer(), 'содержит', 2912, 5),))],\n",
       " [Parse(word='ряд', tag=OpencorporaTag('NOUN,inan,masc sing,nomn'), normal_form='ряд', score=0.527272, methods_stack=((DictionaryAnalyzer(), 'ряд', 112, 0),)),\n",
       "  Parse(word='ряд', tag=OpencorporaTag('NOUN,inan,masc sing,accs'), normal_form='ряд', score=0.472727, methods_stack=((DictionaryAnalyzer(), 'ряд', 112, 3),))],\n",
       " [Parse(word='фактических', tag=OpencorporaTag('ADJF plur,gent'), normal_form='фактический', score=0.642857, methods_stack=((DictionaryAnalyzer(), 'фактических', 16, 21),)),\n",
       "  Parse(word='фактических', tag=OpencorporaTag('ADJF anim,plur,accs'), normal_form='фактический', score=0.285714, methods_stack=((DictionaryAnalyzer(), 'фактических', 16, 23),)),\n",
       "  Parse(word='фактических', tag=OpencorporaTag('ADJF plur,loct'), normal_form='фактический', score=0.071428, methods_stack=((DictionaryAnalyzer(), 'фактических', 16, 26),))],\n",
       " [Parse(word='ошибок.', tag=OpencorporaTag('UNKN'), normal_form='ошибок.', score=1.0, methods_stack=((UnknAnalyzer(), 'ошибок.'),))]]"
      ]
     },
     "execution_count": 33,
     "metadata": {},
     "output_type": "execute_result"
    }
   ],
   "source": [
    "pymorphy_results"
   ]
  },
  {
   "cell_type": "markdown",
   "metadata": {
    "hidden": true
   },
   "source": [
    "spacy - нейросетевой подход, учитывает контекст, не работает с русским яз"
   ]
  },
  {
   "cell_type": "code",
   "execution_count": 34,
   "metadata": {
    "ExecuteTime": {
     "end_time": "2022-09-05T12:02:16.940046Z",
     "start_time": "2022-09-05T12:02:12.602725Z"
    },
    "collapsed": true,
    "hidden": true
   },
   "outputs": [
    {
     "name": "stdout",
     "output_type": "stream",
     "text": [
      "Requirement already satisfied: spacy in /Users/antonermak/opt/anaconda3/lib/python3.9/site-packages (3.4.1)\n",
      "Requirement already satisfied: typer<0.5.0,>=0.3.0 in /Users/antonermak/opt/anaconda3/lib/python3.9/site-packages (from spacy) (0.4.2)\n",
      "Requirement already satisfied: murmurhash<1.1.0,>=0.28.0 in /Users/antonermak/opt/anaconda3/lib/python3.9/site-packages (from spacy) (1.0.8)\n",
      "Requirement already satisfied: jinja2 in /Users/antonermak/opt/anaconda3/lib/python3.9/site-packages (from spacy) (2.11.3)\n",
      "Requirement already satisfied: requests<3.0.0,>=2.13.0 in /Users/antonermak/opt/anaconda3/lib/python3.9/site-packages (from spacy) (2.26.0)\n",
      "Requirement already satisfied: langcodes<4.0.0,>=3.2.0 in /Users/antonermak/opt/anaconda3/lib/python3.9/site-packages (from spacy) (3.3.0)\n",
      "Requirement already satisfied: spacy-loggers<2.0.0,>=1.0.0 in /Users/antonermak/opt/anaconda3/lib/python3.9/site-packages (from spacy) (1.0.3)\n",
      "Requirement already satisfied: cymem<2.1.0,>=2.0.2 in /Users/antonermak/opt/anaconda3/lib/python3.9/site-packages (from spacy) (2.0.6)\n",
      "Requirement already satisfied: numpy>=1.15.0 in /Users/antonermak/opt/anaconda3/lib/python3.9/site-packages (from spacy) (1.20.3)\n",
      "Requirement already satisfied: packaging>=20.0 in /Users/antonermak/opt/anaconda3/lib/python3.9/site-packages (from spacy) (21.0)\n",
      "Requirement already satisfied: setuptools in /Users/antonermak/opt/anaconda3/lib/python3.9/site-packages (from spacy) (58.0.4)\n",
      "Requirement already satisfied: srsly<3.0.0,>=2.4.3 in /Users/antonermak/opt/anaconda3/lib/python3.9/site-packages (from spacy) (2.4.4)\n",
      "Requirement already satisfied: wasabi<1.1.0,>=0.9.1 in /Users/antonermak/opt/anaconda3/lib/python3.9/site-packages (from spacy) (0.10.1)\n",
      "Requirement already satisfied: pathy>=0.3.5 in /Users/antonermak/opt/anaconda3/lib/python3.9/site-packages (from spacy) (0.6.2)\n",
      "Requirement already satisfied: tqdm<5.0.0,>=4.38.0 in /Users/antonermak/opt/anaconda3/lib/python3.9/site-packages (from spacy) (4.62.3)\n",
      "Requirement already satisfied: catalogue<2.1.0,>=2.0.6 in /Users/antonermak/opt/anaconda3/lib/python3.9/site-packages (from spacy) (2.0.8)\n",
      "Requirement already satisfied: pydantic!=1.8,!=1.8.1,<1.10.0,>=1.7.4 in /Users/antonermak/opt/anaconda3/lib/python3.9/site-packages (from spacy) (1.9.2)\n",
      "Requirement already satisfied: preshed<3.1.0,>=3.0.2 in /Users/antonermak/opt/anaconda3/lib/python3.9/site-packages (from spacy) (3.0.7)\n",
      "Requirement already satisfied: thinc<8.2.0,>=8.1.0 in /Users/antonermak/opt/anaconda3/lib/python3.9/site-packages (from spacy) (8.1.0)\n",
      "Requirement already satisfied: spacy-legacy<3.1.0,>=3.0.9 in /Users/antonermak/opt/anaconda3/lib/python3.9/site-packages (from spacy) (3.0.10)\n",
      "Requirement already satisfied: pyparsing>=2.0.2 in /Users/antonermak/opt/anaconda3/lib/python3.9/site-packages (from packaging>=20.0->spacy) (3.0.4)\n",
      "Requirement already satisfied: smart-open<6.0.0,>=5.2.1 in /Users/antonermak/opt/anaconda3/lib/python3.9/site-packages (from pathy>=0.3.5->spacy) (5.2.1)\n",
      "Requirement already satisfied: typing-extensions>=3.7.4.3 in /Users/antonermak/opt/anaconda3/lib/python3.9/site-packages (from pydantic!=1.8,!=1.8.1,<1.10.0,>=1.7.4->spacy) (3.10.0.2)\n",
      "Requirement already satisfied: idna<4,>=2.5 in /Users/antonermak/opt/anaconda3/lib/python3.9/site-packages (from requests<3.0.0,>=2.13.0->spacy) (3.2)\n",
      "Requirement already satisfied: certifi>=2017.4.17 in /Users/antonermak/opt/anaconda3/lib/python3.9/site-packages (from requests<3.0.0,>=2.13.0->spacy) (2022.5.18.1)\n",
      "Requirement already satisfied: urllib3<1.27,>=1.21.1 in /Users/antonermak/opt/anaconda3/lib/python3.9/site-packages (from requests<3.0.0,>=2.13.0->spacy) (1.26.7)\n",
      "Requirement already satisfied: charset-normalizer~=2.0.0 in /Users/antonermak/opt/anaconda3/lib/python3.9/site-packages (from requests<3.0.0,>=2.13.0->spacy) (2.0.4)\n",
      "Requirement already satisfied: blis<0.8.0,>=0.7.8 in /Users/antonermak/opt/anaconda3/lib/python3.9/site-packages (from thinc<8.2.0,>=8.1.0->spacy) (0.7.8)\n",
      "Requirement already satisfied: click<9.0.0,>=7.1.1 in /Users/antonermak/opt/anaconda3/lib/python3.9/site-packages (from typer<0.5.0,>=0.3.0->spacy) (8.0.3)\n",
      "Requirement already satisfied: MarkupSafe>=0.23 in /Users/antonermak/opt/anaconda3/lib/python3.9/site-packages (from jinja2->spacy) (1.1.1)\n",
      "Note: you may need to restart the kernel to use updated packages.\n"
     ]
    }
   ],
   "source": [
    "pip install spacy"
   ]
  },
  {
   "cell_type": "code",
   "execution_count": 35,
   "metadata": {
    "ExecuteTime": {
     "end_time": "2022-09-05T12:02:38.503419Z",
     "start_time": "2022-09-05T12:02:16.948217Z"
    },
    "colab": {
     "base_uri": "https://localhost:8080/"
    },
    "hidden": true,
    "id": "w7MDqIvWib4O",
    "outputId": "93dee74a-4769-4473-a6bb-e3e0b71bad2e"
   },
   "outputs": [
    {
     "name": "stdout",
     "output_type": "stream",
     "text": [
      "dennis : listen , strange woman lie in pond distribute sword \n",
      " be no basis for a system of government .   Supreme executive power derive from \n",
      " a mandate from the masse , not from some farcical aquatic ceremony .\n"
     ]
    }
   ],
   "source": [
    "# 2\n",
    "import spacy\n",
    "nlp = spacy.load('en_core_web_sm')\n",
    "spacy_results = nlp(raw)\n",
    "print(' '.join([token.lemma_ for token in spacy_results]))"
   ]
  },
  {
   "cell_type": "code",
   "execution_count": 36,
   "metadata": {
    "ExecuteTime": {
     "end_time": "2022-09-05T12:02:38.520380Z",
     "start_time": "2022-09-05T12:02:38.506957Z"
    },
    "hidden": true
   },
   "outputs": [
    {
     "data": {
      "text/plain": [
       "DENNIS: Listen, strange women lying in ponds distributing swords\n",
       "is no basis for a system of government.  Supreme executive power derives from\n",
       "a mandate from the masses, not from some farcical aquatic ceremony."
      ]
     },
     "execution_count": 36,
     "metadata": {},
     "output_type": "execute_result"
    }
   ],
   "source": [
    "spacy_results"
   ]
  },
  {
   "cell_type": "markdown",
   "metadata": {
    "hidden": true
   },
   "source": [
    "PyMystem3 - оч долго работает, но с большим количеством текстов будет быстрее"
   ]
  },
  {
   "cell_type": "markdown",
   "metadata": {
    "hidden": true,
    "id": "LVC5gjCRk5bD"
   },
   "source": [
    "[Сравнение PyMorphy2 и PyMystem3](https://habr.com/ru/post/503420/)"
   ]
  },
  {
   "cell_type": "markdown",
   "metadata": {
    "hidden": true,
    "id": "Yim_NVYA6MeS"
   },
   "source": [
    "### Part-of-Speech"
   ]
  },
  {
   "cell_type": "code",
   "execution_count": 37,
   "metadata": {
    "ExecuteTime": {
     "end_time": "2022-09-05T12:03:12.124481Z",
     "start_time": "2022-09-05T12:03:12.116520Z"
    },
    "colab": {
     "base_uri": "https://localhost:8080/"
    },
    "hidden": true,
    "id": "2t_MamYKqbSk",
    "outputId": "17c3a9fc-4fc2-4d0f-9353-a76e653cf6f0"
   },
   "outputs": [
    {
     "data": {
      "text/plain": [
       "[('не', OpencorporaTag('PRCL')),\n",
       " ('существовать', OpencorporaTag('VERB,impf,intr sing,3per,pres,indc')),\n",
       " ('научный', OpencorporaTag('ADJF,Qual plur,gent')),\n",
       " ('доказательство', OpencorporaTag('NOUN,inan,neut plur,gent')),\n",
       " ('в', OpencorporaTag('PREP')),\n",
       " ('польза', OpencorporaTag('NOUN,inan,femn sing,accs')),\n",
       " ('эффективность', OpencorporaTag('NOUN,inan,femn sing,gent')),\n",
       " ('нлп,', OpencorporaTag('UNKN')),\n",
       " ('оно', OpencorporaTag('NPRO,neut,3per,Anph sing,nomn'))]"
      ]
     },
     "execution_count": 37,
     "metadata": {},
     "output_type": "execute_result"
    }
   ],
   "source": [
    "# 1\n",
    "[(res[0].normal_form, res[0].tag) for res in pymorphy_results[:9]]"
   ]
  },
  {
   "cell_type": "code",
   "execution_count": 38,
   "metadata": {
    "ExecuteTime": {
     "end_time": "2022-09-05T12:03:12.974294Z",
     "start_time": "2022-09-05T12:03:12.966935Z"
    },
    "colab": {
     "base_uri": "https://localhost:8080/"
    },
    "hidden": true,
    "id": "Doa85yw6JWea",
    "outputId": "794ec981-0378-4020-e316-f1e2045d8949"
   },
   "outputs": [
    {
     "data": {
      "text/plain": [
       "[('dennis', 'NOUN'),\n",
       " (':', 'PUNCT'),\n",
       " ('listen', 'VERB'),\n",
       " (',', 'PUNCT'),\n",
       " ('strange', 'ADJ'),\n",
       " ('woman', 'NOUN'),\n",
       " ('lie', 'VERB')]"
      ]
     },
     "execution_count": 38,
     "metadata": {},
     "output_type": "execute_result"
    }
   ],
   "source": [
    "# 2\n",
    "[(token.lemma_, token.pos_) for token in spacy_results[:7]]"
   ]
  },
  {
   "cell_type": "code",
   "execution_count": 39,
   "metadata": {
    "ExecuteTime": {
     "end_time": "2022-09-05T12:03:54.848532Z",
     "start_time": "2022-09-05T12:03:49.541490Z"
    },
    "colab": {
     "base_uri": "https://localhost:8080/"
    },
    "hidden": true,
    "id": "EVGJLVjLtFDp",
    "outputId": "c01be447-80df-4477-c875-28889e7b7e36"
   },
   "outputs": [],
   "source": [
    "!pip install -q rnnmorph"
   ]
  },
  {
   "cell_type": "markdown",
   "metadata": {
    "hidden": true
   },
   "source": [
    "rnnmorph - работает на основе реккурентных нейронных сетей, работает с русским языком"
   ]
  },
  {
   "cell_type": "code",
   "execution_count": 41,
   "metadata": {
    "ExecuteTime": {
     "end_time": "2022-09-05T12:04:37.700773Z",
     "start_time": "2022-09-05T12:04:35.058517Z"
    },
    "colab": {
     "base_uri": "https://localhost:8080/"
    },
    "hidden": true,
    "id": "0Ms2yeEFqrtZ",
    "outputId": "dd9131e0-82bd-46a7-e54e-1bed989ff9fb"
   },
   "outputs": [
    {
     "name": "stdout",
     "output_type": "stream",
     "text": [
      "1/1 [==============================] - 1s 1s/step\n"
     ]
    },
    {
     "data": {
      "text/plain": [
       "[('не', 'PART', '_'),\n",
       " ('существовать',\n",
       "  'VERB',\n",
       "  'Mood=Ind|Number=Sing|Person=3|Tense=Notpast|VerbForm=Fin|Voice=Act'),\n",
       " ('научный', 'ADJ', 'Case=Gen|Degree=Pos|Number=Plur'),\n",
       " ('доказательство', 'NOUN', 'Case=Gen|Gender=Neut|Number=Plur'),\n",
       " ('в', 'ADP', '_'),\n",
       " ('польза', 'NOUN', 'Case=Acc|Gender=Fem|Number=Sing'),\n",
       " ('эффективность', 'NOUN', 'Case=Gen|Gender=Fem|Number=Sing')]"
      ]
     },
     "execution_count": 41,
     "metadata": {},
     "output_type": "execute_result"
    }
   ],
   "source": [
    "# 3\n",
    "from rnnmorph.predictor import RNNMorphPredictor\n",
    "predictor = RNNMorphPredictor(language=\"ru\")\n",
    "rnnmorph_result = predictor.predict(raw_ru.split(' '))\n",
    "[(token.normal_form, token.pos, token.tag) for token in rnnmorph_result[:7]]"
   ]
  },
  {
   "cell_type": "markdown",
   "metadata": {
    "hidden": true,
    "id": "3_Slt2R76Mgk"
   },
   "source": [
    "### Named entities recognition"
   ]
  },
  {
   "cell_type": "code",
   "execution_count": 50,
   "metadata": {
    "ExecuteTime": {
     "end_time": "2022-09-05T12:06:43.587242Z",
     "start_time": "2022-09-05T12:06:43.572816Z"
    },
    "colab": {
     "base_uri": "https://localhost:8080/"
    },
    "hidden": true,
    "id": "zvB43ZHT6MhR",
    "outputId": "3d490cfc-0b7f-4cb1-f655-7e9ca16f6a2d"
   },
   "outputs": [
    {
     "name": "stdout",
     "output_type": "stream",
     "text": [
      "Apple 0 5 ORG\n",
      "Microsoft 10 19 ORG\n",
      "U.K. 42 46 GPE\n",
      "$1 billion 59 69 MONEY\n"
     ]
    }
   ],
   "source": [
    "doc = nlp('Apple and Microsoft are looking at buying U.K. startup for $1 billion')\n",
    "\n",
    "for ent in doc.ents:\n",
    "    print(ent.text, ent.start_char, ent.end_char, ent.label_)"
   ]
  },
  {
   "cell_type": "code",
   "execution_count": null,
   "metadata": {
    "hidden": true
   },
   "outputs": [],
   "source": []
  },
  {
   "cell_type": "markdown",
   "metadata": {
    "id": "Z0-_oFwwqAwN"
   },
   "source": [
    "## Часть 2"
   ]
  },
  {
   "cell_type": "markdown",
   "metadata": {
    "id": "HIwDfmrYOMfi"
   },
   "source": [
    "### Задача классификации"
   ]
  },
  {
   "cell_type": "markdown",
   "metadata": {
    "id": "L6DaLniC6MhY"
   },
   "source": [
    "#### 20 newsgroups\n",
    "Датасет с 18000 новостей, сгруппированных по 20 темам."
   ]
  },
  {
   "cell_type": "code",
   "execution_count": 51,
   "metadata": {
    "ExecuteTime": {
     "end_time": "2022-09-05T12:07:24.409414Z",
     "start_time": "2022-09-05T12:07:24.000616Z"
    },
    "colab": {
     "base_uri": "https://localhost:8080/"
    },
    "id": "9uS7IJNW6Mhb",
    "outputId": "ebc2f876-92c7-4032-a422-d51b2e3c2c4a"
   },
   "outputs": [],
   "source": [
    "from sklearn.datasets import fetch_20newsgroups\n",
    "newsgroups_train = fetch_20newsgroups(subset='train')"
   ]
  },
  {
   "cell_type": "code",
   "execution_count": 52,
   "metadata": {
    "ExecuteTime": {
     "end_time": "2022-09-05T12:07:24.419873Z",
     "start_time": "2022-09-05T12:07:24.411788Z"
    },
    "colab": {
     "base_uri": "https://localhost:8080/"
    },
    "id": "MMbagpJE6Mhh",
    "outputId": "152aa470-abef-47d0-deb1-2bcef6280e07",
    "scrolled": false
   },
   "outputs": [
    {
     "data": {
      "text/plain": [
       "['alt.atheism',\n",
       " 'comp.graphics',\n",
       " 'comp.os.ms-windows.misc',\n",
       " 'comp.sys.ibm.pc.hardware',\n",
       " 'comp.sys.mac.hardware',\n",
       " 'comp.windows.x',\n",
       " 'misc.forsale',\n",
       " 'rec.autos',\n",
       " 'rec.motorcycles',\n",
       " 'rec.sport.baseball',\n",
       " 'rec.sport.hockey',\n",
       " 'sci.crypt',\n",
       " 'sci.electronics',\n",
       " 'sci.med',\n",
       " 'sci.space',\n",
       " 'soc.religion.christian',\n",
       " 'talk.politics.guns',\n",
       " 'talk.politics.mideast',\n",
       " 'talk.politics.misc',\n",
       " 'talk.religion.misc']"
      ]
     },
     "execution_count": 52,
     "metadata": {},
     "output_type": "execute_result"
    }
   ],
   "source": [
    "newsgroups_train.target_names"
   ]
  },
  {
   "cell_type": "code",
   "execution_count": 53,
   "metadata": {
    "ExecuteTime": {
     "end_time": "2022-09-05T12:07:32.083129Z",
     "start_time": "2022-09-05T12:07:32.074844Z"
    },
    "colab": {
     "base_uri": "https://localhost:8080/"
    },
    "id": "7QReW1K46Mhn",
    "outputId": "d243da37-1e2a-4a19-e22b-960f369915c7"
   },
   "outputs": [
    {
     "data": {
      "text/plain": [
       "(11314,)"
      ]
     },
     "execution_count": 53,
     "metadata": {},
     "output_type": "execute_result"
    }
   ],
   "source": [
    "newsgroups_train.filenames.shape"
   ]
  },
  {
   "cell_type": "markdown",
   "metadata": {
    "id": "WZtRIQmNQ4H0"
   },
   "source": [
    "#### Рассмотрим подвыборку"
   ]
  },
  {
   "cell_type": "code",
   "execution_count": 54,
   "metadata": {
    "ExecuteTime": {
     "end_time": "2022-09-05T12:08:06.867633Z",
     "start_time": "2022-09-05T12:08:06.476729Z"
    },
    "colab": {
     "base_uri": "https://localhost:8080/"
    },
    "id": "OhwuCp5B6Mhz",
    "outputId": "53f9bb20-9762-49b3-f2f2-0327bde7d576"
   },
   "outputs": [
    {
     "data": {
      "text/plain": [
       "(2034,)"
      ]
     },
     "execution_count": 54,
     "metadata": {},
     "output_type": "execute_result"
    }
   ],
   "source": [
    "categories = ['alt.atheism', 'talk.religion.misc',\n",
    "              'comp.graphics', 'sci.space']\n",
    "newsgroups_train = fetch_20newsgroups(subset='train',\n",
    "                                      categories=categories)\n",
    "newsgroups_train.filenames.shape"
   ]
  },
  {
   "cell_type": "code",
   "execution_count": 55,
   "metadata": {
    "ExecuteTime": {
     "end_time": "2022-09-05T12:08:08.612856Z",
     "start_time": "2022-09-05T12:08:08.605841Z"
    },
    "colab": {
     "base_uri": "https://localhost:8080/"
    },
    "id": "MOREsv336MiA",
    "outputId": "f91d5c50-4e47-4ba9-cbbe-37acf3df847a"
   },
   "outputs": [
    {
     "name": "stdout",
     "output_type": "stream",
     "text": [
      "From: rych@festival.ed.ac.uk (R Hawkes)\n",
      "Subject: 3DS: Where did all the texture rules go?\n",
      "Lines: 21\n",
      "\n",
      "Hi,\n",
      "\n",
      "I've noticed that if you only save a model (with all your mapping planes\n",
      "positioned carefully) to a .3DS file that when you reload it after restarting\n",
      "3DS, they are given a default position and orientation.  But if you save\n",
      "to a .PRJ file their positions/orientation are preserved.  Does anyone\n",
      "know why this information is not stored in the .3DS file?  Nothing is\n",
      "explicitly said in the manual about saving texture rules in the .PRJ file. \n",
      "I'd like to be able to read the texture rule information, does anyone have \n",
      "the format for the .PRJ file?\n",
      "\n",
      "Is the .CEL file format available from somewhere?\n",
      "\n",
      "Rych\n",
      "\n",
      "======================================================================\n",
      "Rycharde Hawkes\t\t\t\temail: rych@festival.ed.ac.uk\n",
      "Virtual Environment Laboratory\n",
      "Dept. of Psychology\t\t\tTel  : +44 31 650 3426\n",
      "Univ. of Edinburgh\t\t\tFax  : +44 31 667 0150\n",
      "======================================================================\n",
      "\n"
     ]
    }
   ],
   "source": [
    "print(newsgroups_train.data[0])"
   ]
  },
  {
   "cell_type": "code",
   "execution_count": 56,
   "metadata": {
    "ExecuteTime": {
     "end_time": "2022-09-05T12:08:30.147830Z",
     "start_time": "2022-09-05T12:08:30.142081Z"
    },
    "colab": {
     "base_uri": "https://localhost:8080/"
    },
    "id": "SBnDG-TN6MiF",
    "outputId": "33bc189f-0161-4287-bf48-e78fcdadd683"
   },
   "outputs": [
    {
     "data": {
      "text/plain": [
       "array([1, 3, 2, 0, 2, 0, 2, 1, 2, 1])"
      ]
     },
     "execution_count": 56,
     "metadata": {},
     "output_type": "execute_result"
    }
   ],
   "source": [
    "newsgroups_train.target[:10]"
   ]
  },
  {
   "cell_type": "markdown",
   "metadata": {
    "id": "2XlZYpodRYDI"
   },
   "source": [
    "#### TF-IDF(напоминание)"
   ]
  },
  {
   "cell_type": "markdown",
   "metadata": {
    "id": "ohUk2n3jRbNp"
   },
   "source": [
    "$n_{\\mathbb{d}\\mathbb{w}}$ - число вхождений слова $\\mathbb{w}$ в документ $\\mathbb{d}$;<br>\n",
    "$N_{\\mathbb{w}}$ - число документов, содержащих $\\mathbb{w}$;<br>\n",
    "$N$ - число документов; <br><br>\n",
    "\n",
    "$p(\\mathbb{w}, \\mathbb{d}) = N_{\\mathbb{w}} / N$ - вероятность наличия слова $\\mathbb{w}$ в любом документе $\\mathbb{d}$\n",
    "<br>\n",
    "$P(\\mathbb{w}, \\mathbb{d}, n_{\\mathbb{d}\\mathbb{w}}) = (N_{\\mathbb{w}} / N)^{n_{\\mathbb{d}\\mathbb{w}}}$ - вероятность встретить $n_{\\mathbb{d}\\mathbb{w}}$ раз слово $\\mathbb{w}$ в документе $\\mathbb{d}$<br><br>\n",
    "\n",
    "$-\\log{P(\\mathbb{w}, \\mathbb{d}, n_{\\mathbb{d}\\mathbb{w}})} = n_{\\mathbb{d}\\mathbb{w}} \\cdot \\log{(N / N_{\\mathbb{w}})} = TF(\\mathbb{w}, \\mathbb{d}) \\cdot IDF(\\mathbb{w})$<br><br>\n",
    "\n",
    "$TF(\\mathbb{w}, \\mathbb{d}) = n_{\\mathbb{d}\\mathbb{w}}$ - term frequency;<br>\n",
    "$IDF(\\mathbb{w}) = \\log{(N /N_{\\mathbb{w}})}$ - inverted document frequency;"
   ]
  },
  {
   "cell_type": "markdown",
   "metadata": {
    "id": "kQvcMiFH6MiM"
   },
   "source": [
    "#### Давайте векторизуем эти тексты с помощью TF-IDF"
   ]
  },
  {
   "cell_type": "code",
   "execution_count": 57,
   "metadata": {
    "ExecuteTime": {
     "end_time": "2022-09-05T12:13:30.617269Z",
     "start_time": "2022-09-05T12:13:30.611011Z"
    },
    "id": "98LLAoZO6MiU"
   },
   "outputs": [],
   "source": [
    "from sklearn.feature_extraction.text import TfidfVectorizer"
   ]
  },
  {
   "cell_type": "markdown",
   "metadata": {
    "id": "baXLU0lj6MiY"
   },
   "source": [
    "#### Некоторые параметры: \n",
    "* input : string {‘filename’, ‘file’, ‘content’}\n",
    "*  lowercase : boolean, default True\n",
    "*  preprocessor : callable or None (default)\n",
    "*  tokenizer : callable or None (default)\n",
    "*  stop_words : string {‘english’}, list, or None (default)\n",
    "*  ngram_range : tuple (min_n, max_n)\n",
    "*  max_df : float in range [0.0, 1.0] or int, default=1.0\n",
    "*  min_df : float in range [0.0, 1.0] or int, default=1\n",
    "*  max_features : int or None, default=None"
   ]
  },
  {
   "cell_type": "markdown",
   "metadata": {
    "id": "O-m81BJxZFwJ"
   },
   "source": [
    "#### Перебор параметров"
   ]
  },
  {
   "cell_type": "code",
   "execution_count": 58,
   "metadata": {
    "ExecuteTime": {
     "end_time": "2022-09-05T12:13:32.472983Z",
     "start_time": "2022-09-05T12:13:31.867564Z"
    },
    "colab": {
     "base_uri": "https://localhost:8080/"
    },
    "id": "_f7padHL6MiZ",
    "outputId": "a60445fa-ad78-4efb-ad13-51a8a59f5650"
   },
   "outputs": [
    {
     "data": {
      "text/plain": [
       "(2034, 34118)"
      ]
     },
     "execution_count": 58,
     "metadata": {},
     "output_type": "execute_result"
    }
   ],
   "source": [
    "# lowercase\n",
    "vectorizer = TfidfVectorizer()\n",
    "vectors = vectorizer.fit_transform(newsgroups_train.data)\n",
    "vectors.shape"
   ]
  },
  {
   "cell_type": "code",
   "execution_count": 59,
   "metadata": {
    "ExecuteTime": {
     "end_time": "2022-09-05T12:13:34.030600Z",
     "start_time": "2022-09-05T12:13:33.409762Z"
    },
    "colab": {
     "base_uri": "https://localhost:8080/"
    },
    "id": "Nf2s4HCY6Mie",
    "outputId": "159178a7-2cb6-438f-93fd-2532ec410368"
   },
   "outputs": [
    {
     "data": {
      "text/plain": [
       "(2034, 42307)"
      ]
     },
     "execution_count": 59,
     "metadata": {},
     "output_type": "execute_result"
    }
   ],
   "source": [
    "vectorizer = TfidfVectorizer(lowercase=False)\n",
    "vectors = vectorizer.fit_transform(newsgroups_train.data)\n",
    "vectors.shape"
   ]
  },
  {
   "cell_type": "code",
   "execution_count": 60,
   "metadata": {
    "ExecuteTime": {
     "end_time": "2022-09-05T12:13:39.772745Z",
     "start_time": "2022-09-05T12:13:39.721473Z"
    },
    "colab": {
     "base_uri": "https://localhost:8080/"
    },
    "id": "2hwlTWapZR8M",
    "outputId": "e2ced468-e4d8-497c-8f27-4262fba6eea1"
   },
   "outputs": [
    {
     "name": "stderr",
     "output_type": "stream",
     "text": [
      "/Users/antonermak/opt/anaconda3/lib/python3.9/site-packages/sklearn/utils/deprecation.py:87: FutureWarning: Function get_feature_names is deprecated; get_feature_names is deprecated in 1.0 and will be removed in 1.2. Please use get_feature_names_out instead.\n",
      "  warnings.warn(msg, category=FutureWarning)\n"
     ]
    },
    {
     "data": {
      "text/plain": [
       "['00',\n",
       " '000',\n",
       " '0000',\n",
       " '00000',\n",
       " '000000',\n",
       " '000005102000',\n",
       " '000021',\n",
       " '000062David42',\n",
       " '0000VEC',\n",
       " '0001']"
      ]
     },
     "execution_count": 60,
     "metadata": {},
     "output_type": "execute_result"
    }
   ],
   "source": [
    "vectorizer.get_feature_names()[:10]"
   ]
  },
  {
   "cell_type": "code",
   "execution_count": 96,
   "metadata": {
    "ExecuteTime": {
     "end_time": "2022-09-05T12:42:59.455700Z",
     "start_time": "2022-09-05T12:42:58.963462Z"
    },
    "colab": {
     "base_uri": "https://localhost:8080/"
    },
    "id": "AYfpk0ds6Mij",
    "outputId": "a605ac46-771c-44cd-c5c9-0774625740d8"
   },
   "outputs": [
    {
     "data": {
      "text/plain": [
       "(2034, 9)"
      ]
     },
     "execution_count": 96,
     "metadata": {},
     "output_type": "execute_result"
    }
   ],
   "source": [
    "# min_df, max_df\n",
    "vectorizer = TfidfVectorizer(min_df=0.8)\n",
    "vectors = vectorizer.fit_transform(newsgroups_train.data)\n",
    "vectors.shape"
   ]
  },
  {
   "cell_type": "code",
   "execution_count": 97,
   "metadata": {
    "ExecuteTime": {
     "end_time": "2022-09-05T12:42:59.470338Z",
     "start_time": "2022-09-05T12:42:59.458287Z"
    },
    "colab": {
     "base_uri": "https://localhost:8080/"
    },
    "id": "Ookt99atZ8sS",
    "outputId": "48acde37-ce1c-46e4-e131-bf3d99a36d4d"
   },
   "outputs": [
    {
     "data": {
      "text/plain": [
       "['and', 'from', 'in', 'lines', 'of', 'organization', 'subject', 'the', 'to']"
      ]
     },
     "execution_count": 97,
     "metadata": {},
     "output_type": "execute_result"
    }
   ],
   "source": [
    "# посмотрим на слова, которые встречаются больше чем в 80 случаях\n",
    "vectorizer.get_feature_names()"
   ]
  },
  {
   "cell_type": "code",
   "execution_count": 98,
   "metadata": {
    "ExecuteTime": {
     "end_time": "2022-09-05T12:43:07.875357Z",
     "start_time": "2022-09-05T12:43:07.401910Z"
    },
    "colab": {
     "base_uri": "https://localhost:8080/"
    },
    "id": "2e_h6c0X6Mim",
    "outputId": "1164d096-e211-478d-cb27-cc782b71690e"
   },
   "outputs": [
    {
     "data": {
      "text/plain": [
       "(2034, 2391)"
      ]
     },
     "execution_count": 98,
     "metadata": {},
     "output_type": "execute_result"
    }
   ],
   "source": [
    "vectorizer = TfidfVectorizer(min_df=0.01, max_df=0.8)\n",
    "vectors = vectorizer.fit_transform(newsgroups_train.data)\n",
    "vectors.shape"
   ]
  },
  {
   "cell_type": "code",
   "execution_count": 100,
   "metadata": {
    "ExecuteTime": {
     "end_time": "2022-09-05T12:43:17.971671Z",
     "start_time": "2022-09-05T12:43:15.729350Z"
    },
    "colab": {
     "base_uri": "https://localhost:8080/"
    },
    "id": "XUhOyx4NihL0",
    "outputId": "c5bdb88a-8a3b-4654-b0b4-9a8a5c79e132"
   },
   "outputs": [
    {
     "data": {
      "text/plain": [
       "(2034, 1236)"
      ]
     },
     "execution_count": 100,
     "metadata": {},
     "output_type": "execute_result"
    }
   ],
   "source": [
    "# ngram_range\n",
    "vectorizer = TfidfVectorizer(ngram_range=(1, 3), min_df=0.03, max_df=0.9)\n",
    "vectors = vectorizer.fit_transform(newsgroups_train.data)\n",
    "vectors.shape"
   ]
  },
  {
   "cell_type": "code",
   "execution_count": 101,
   "metadata": {
    "ExecuteTime": {
     "end_time": "2022-09-05T12:44:01.686867Z",
     "start_time": "2022-09-05T12:44:01.662931Z"
    },
    "colab": {
     "base_uri": "https://localhost:8080/",
     "height": 70
    },
    "id": "7074cdSF6MjC",
    "outputId": "378752c9-3ae1-436f-d3c5-568363006d90"
   },
   "outputs": [
    {
     "name": "stderr",
     "output_type": "stream",
     "text": [
      "[nltk_data] Downloading package wordnet to\n",
      "[nltk_data]     /Users/antonermak/nltk_data...\n",
      "[nltk_data]   Package wordnet is already up-to-date!\n"
     ]
    },
    {
     "data": {
      "text/plain": [
       "'oh , think landed miracle work , thirst hunger come conference bird'"
      ]
     },
     "execution_count": 101,
     "metadata": {},
     "output_type": "execute_result"
    }
   ],
   "source": [
    "# стоп-слова, preproc\n",
    "from nltk.corpus import stopwords\n",
    "stopWords = set(stopwords.words('english'))\n",
    "nltk.download('wordnet')\n",
    "wnl = nltk.WordNetLemmatizer()\n",
    "\n",
    "def preproc_nltk(text):\n",
    "    #text = re.sub(f'[{string.punctuation}]', ' ', text)\n",
    "    return ' '.join([wnl.lemmatize(word) for word in word_tokenize(text.lower()) if word not in stopWords])\n",
    "\n",
    "st = \"Oh, I think I ve landed Where there are miracles at work,  For the thirst and for the hunger Come the conference of birds\"\n",
    "preproc_nltk(st)"
   ]
  },
  {
   "cell_type": "code",
   "execution_count": 102,
   "metadata": {
    "ExecuteTime": {
     "end_time": "2022-09-05T12:44:09.953246Z",
     "start_time": "2022-09-05T12:44:02.118589Z"
    },
    "colab": {
     "base_uri": "https://localhost:8080/"
    },
    "id": "LIW3hCSy6MjX",
    "outputId": "338c71af-0740-4c8f-c058-684dd087ad97"
   },
   "outputs": [
    {
     "name": "stdout",
     "output_type": "stream",
     "text": [
      "CPU times: user 7.3 s, sys: 225 ms, total: 7.53 s\n",
      "Wall time: 7.83 s\n"
     ]
    }
   ],
   "source": [
    "%%time\n",
    "vectorizer = TfidfVectorizer(preprocessor=preproc_nltk)\n",
    "vectors = vectorizer.fit_transform(newsgroups_train.data)"
   ]
  },
  {
   "cell_type": "code",
   "execution_count": 103,
   "metadata": {
    "ExecuteTime": {
     "end_time": "2022-09-05T12:44:10.731578Z",
     "start_time": "2022-09-05T12:44:09.956494Z"
    },
    "colab": {
     "base_uri": "https://localhost:8080/",
     "height": 35
    },
    "id": "lUmyAzJEB1SU",
    "outputId": "f7b9009d-14f0-4436-e2e5-b7082f7aa6b5"
   },
   "outputs": [
    {
     "data": {
      "text/plain": [
       "'oh , I think I land miracle work ,   thirst hunger come conference bird'"
      ]
     },
     "execution_count": 103,
     "metadata": {},
     "output_type": "execute_result"
    }
   ],
   "source": [
    "# preproc_spacy\n",
    "nlp = spacy.load(\"en_core_web_sm\")\n",
    "texts = newsgroups_train.data.copy()\n",
    "\n",
    "def preproc_spacy(text):\n",
    "    spacy_results = nlp(text)\n",
    "    return ' '.join([token.lemma_ for token in spacy_results if token.lemma_ not in stopWords])\n",
    "preproc_spacy(st)"
   ]
  },
  {
   "cell_type": "code",
   "execution_count": 104,
   "metadata": {
    "ExecuteTime": {
     "end_time": "2022-09-05T12:45:16.377844Z",
     "start_time": "2022-09-05T12:44:10.735038Z"
    },
    "colab": {
     "base_uri": "https://localhost:8080/"
    },
    "id": "0C5Ent0nG5zj",
    "outputId": "1af1abe9-bc09-480f-ced0-5caf77a7e0d7"
   },
   "outputs": [
    {
     "name": "stdout",
     "output_type": "stream",
     "text": [
      "CPU times: user 10.2 s, sys: 1.34 s, total: 11.5 s\n",
      "Wall time: 1min 5s\n"
     ]
    }
   ],
   "source": [
    "%%time\n",
    "new_texts = []\n",
    "for doc in nlp.pipe(texts, batch_size=32, n_process=3, disable=[\"parser\", \"ner\"]):\n",
    "    new_texts.append(' '.join([tok.lemma_ for tok in doc if tok.lemma not in stopWords]))\n",
    "vectorizer = TfidfVectorizer()\n",
    "vectors = vectorizer.fit_transform(new_texts)"
   ]
  },
  {
   "cell_type": "code",
   "execution_count": 111,
   "metadata": {
    "ExecuteTime": {
     "end_time": "2022-09-05T12:48:12.642108Z",
     "start_time": "2022-09-05T12:48:12.638633Z"
    }
   },
   "outputs": [
    {
     "name": "stdout",
     "output_type": "stream",
     "text": [
      "From: rych@festival.ed.ac.uk (R Hawkes)\n",
      "Subject: 3DS: Where did all the texture rules go?\n",
      "Lines: 21\n",
      "\n",
      "Hi,\n",
      "\n",
      "I've noticed that if you only save a model (with all your mapping planes\n",
      "positioned carefully) to a .3DS file that when you reload it after restarting\n",
      "3DS, they are given a default position and orientation.  But if you save\n",
      "to a .PRJ file their positions/orientation are preserved.  Does anyone\n",
      "know why this information is not stored in the .3DS file?  Nothing is\n",
      "explicitly said in the manual about saving texture rules in the .PRJ file. \n",
      "I'd like to be able to read the texture rule information, does anyone have \n",
      "the format for the .PRJ file?\n",
      "\n",
      "Is the .CEL file format available from somewhere?\n",
      "\n",
      "Rych\n",
      "\n",
      "======================================================================\n",
      "Rycharde Hawkes\t\t\t\temail: rych@festival.ed.ac.uk\n",
      "Virtual Environment Laboratory\n",
      "Dept. of Psychology\t\t\tTel  : +44 31 650 3426\n",
      "Univ. of Edinburgh\t\t\tFax  : +44 31 667 0150\n",
      "======================================================================\n",
      "\n"
     ]
    }
   ],
   "source": [
    "print(newsgroups_train.data[0])"
   ]
  },
  {
   "cell_type": "code",
   "execution_count": 109,
   "metadata": {
    "ExecuteTime": {
     "end_time": "2022-09-05T12:47:35.976549Z",
     "start_time": "2022-09-05T12:47:35.969149Z"
    }
   },
   "outputs": [
    {
     "name": "stdout",
     "output_type": "stream",
     "text": [
      "from : rych@festival.ed.ac.uk ( r Hawkes ) \n",
      " Subject : 3ds : where do all the texture rule go ? \n",
      " line : 21 \n",
      "\n",
      " hi , \n",
      "\n",
      " I 've notice that if you only save a model ( with all your mapping plane \n",
      " position carefully ) to a .3ds file that when you reload it after restart \n",
      " 3ds , they be give a default position and orientation .   but if you save \n",
      " to a .PRJ file their position / orientation be preserve .   do anyone \n",
      " know why this information be not store in the .3ds file ?   nothing be \n",
      " explicitly say in the manual about save texture rule in the .prj file . \n",
      " I would like to be able to read the texture rule information , do anyone have \n",
      " the format for the .prj file ? \n",
      "\n",
      " be the .CEL file format available from somewhere ? \n",
      "\n",
      " rych \n",
      "\n",
      " = = = = = = = = = = = = = = = = = = = = = = = = = = = = = = = = = = = = = = = = = = = = = = = = = = = = = = = = = = = = = = = = = = = = = = \n",
      " Rycharde Hawkes \t\t\t\t email : rych@festival.ed.ac.uk \n",
      " Virtual Environment Laboratory \n",
      " Dept . of psychology \t\t\t Tel   : +44 31 650 3426 \n",
      " Univ . of Edinburgh \t\t\t Fax   : +44 31 667 0150 \n",
      " = = = = = = = = = = = = = = = = = = = = = = = = = = = = = = = = = = = = = = = = = = = = = = = = = = = = = = = = = = = = = = = = = = = = = = \n",
      "\n"
     ]
    }
   ],
   "source": [
    "print(new_texts[0])"
   ]
  },
  {
   "cell_type": "markdown",
   "metadata": {
    "id": "0lXAPHZA6Mj0"
   },
   "source": [
    "#### Итоговая модель"
   ]
  },
  {
   "cell_type": "code",
   "execution_count": 112,
   "metadata": {
    "ExecuteTime": {
     "end_time": "2022-09-05T12:49:27.487236Z",
     "start_time": "2022-09-05T12:49:23.365279Z"
    },
    "colab": {
     "base_uri": "https://localhost:8080/"
    },
    "id": "uZYcRkQ86Mj1",
    "outputId": "72392257-a3e9-405a-9238-169e7c0d115c"
   },
   "outputs": [
    {
     "name": "stdout",
     "output_type": "stream",
     "text": [
      "CPU times: user 3.64 s, sys: 214 ms, total: 3.85 s\n",
      "Wall time: 4.12 s\n"
     ]
    },
    {
     "data": {
      "text/plain": [
       "['000',\n",
       " 'attempt',\n",
       " 'christ',\n",
       " 'end',\n",
       " 'however',\n",
       " 'look',\n",
       " 'of this',\n",
       " 'report',\n",
       " 'technology',\n",
       " 'understand']"
      ]
     },
     "execution_count": 112,
     "metadata": {},
     "output_type": "execute_result"
    }
   ],
   "source": [
    "%%time\n",
    "vectorizer = TfidfVectorizer(ngram_range=(1, 3), max_df=0.5, max_features=1000)\n",
    "vectors = vectorizer.fit_transform(new_texts)\n",
    "vectorizer.get_feature_names()[::100]"
   ]
  },
  {
   "cell_type": "markdown",
   "metadata": {
    "id": "TQHTlj3q6Mj6"
   },
   "source": [
    "#### Можем посмотреть на косинусную меру между векторами"
   ]
  },
  {
   "cell_type": "code",
   "execution_count": 113,
   "metadata": {
    "ExecuteTime": {
     "end_time": "2022-09-05T12:49:38.843642Z",
     "start_time": "2022-09-05T12:49:38.837249Z"
    },
    "colab": {
     "base_uri": "https://localhost:8080/"
    },
    "id": "Jo4fKtAXqCl-",
    "outputId": "81b8f469-e889-4c92-942e-63f0a526311d"
   },
   "outputs": [
    {
     "data": {
      "text/plain": [
       "(2034, 1000)"
      ]
     },
     "execution_count": 113,
     "metadata": {},
     "output_type": "execute_result"
    }
   ],
   "source": [
    "vectors.shape"
   ]
  },
  {
   "cell_type": "code",
   "execution_count": 114,
   "metadata": {
    "ExecuteTime": {
     "end_time": "2022-09-05T12:49:39.092429Z",
     "start_time": "2022-09-05T12:49:39.072732Z"
    },
    "colab": {
     "base_uri": "https://localhost:8080/"
    },
    "id": "VA8Fn5I46Mi0",
    "outputId": "632e1709-57eb-416c-f579-eaad32195408"
   },
   "outputs": [
    {
     "data": {
      "text/plain": [
       "53"
      ]
     },
     "execution_count": 114,
     "metadata": {},
     "output_type": "execute_result"
    }
   ],
   "source": [
    "vector = vectors.todense()[0]\n",
    "(vector != 0).sum()"
   ]
  },
  {
   "cell_type": "code",
   "execution_count": 115,
   "metadata": {
    "ExecuteTime": {
     "end_time": "2022-09-05T12:49:39.436357Z",
     "start_time": "2022-09-05T12:49:39.374684Z"
    },
    "colab": {
     "base_uri": "https://localhost:8080/"
    },
    "id": "kweWqI8ztDwC",
    "outputId": "b729a5b3-fd07-4bc5-99fe-75909a02cd8d"
   },
   "outputs": [
    {
     "data": {
      "text/plain": [
       "89.93952802359883"
      ]
     },
     "execution_count": 115,
     "metadata": {},
     "output_type": "execute_result"
    }
   ],
   "source": [
    "np.mean(list(map(lambda x: (x != 0).sum(), vectors.todense())))"
   ]
  },
  {
   "cell_type": "code",
   "execution_count": 116,
   "metadata": {
    "ExecuteTime": {
     "end_time": "2022-09-05T12:51:09.477492Z",
     "start_time": "2022-09-05T12:51:09.468269Z"
    },
    "colab": {
     "base_uri": "https://localhost:8080/"
    },
    "id": "VsVQhR9y6Mj8",
    "outputId": "378d430b-f6d2-4f76-e2d9-bda51d8479de"
   },
   "outputs": [
    {
     "data": {
      "text/plain": [
       "scipy.sparse.csr.csr_matrix"
      ]
     },
     "execution_count": 116,
     "metadata": {},
     "output_type": "execute_result"
    }
   ],
   "source": [
    "import numpy as np\n",
    "from numpy.linalg import norm\n",
    "\n",
    "type(vectors)"
   ]
  },
  {
   "cell_type": "code",
   "execution_count": 117,
   "metadata": {
    "ExecuteTime": {
     "end_time": "2022-09-05T12:51:10.736737Z",
     "start_time": "2022-09-05T12:51:10.726636Z"
    },
    "colab": {
     "base_uri": "https://localhost:8080/"
    },
    "id": "tS2G0ZZC6MkN",
    "outputId": "7dc5ec75-cf8e-4c15-a759-631dc63c6c57"
   },
   "outputs": [
    {
     "data": {
      "text/plain": [
       "(2034, 1000)"
      ]
     },
     "execution_count": 117,
     "metadata": {},
     "output_type": "execute_result"
    }
   ],
   "source": [
    "dense_vectors = vectors.todense()\n",
    "dense_vectors.shape"
   ]
  },
  {
   "cell_type": "code",
   "execution_count": 118,
   "metadata": {
    "ExecuteTime": {
     "end_time": "2022-09-05T12:51:11.055271Z",
     "start_time": "2022-09-05T12:51:11.048051Z"
    },
    "id": "LGgb5aP76MkU"
   },
   "outputs": [],
   "source": [
    "def cosine_sim(v1, v2):\n",
    "    # v1, v2 (1 x dim)\n",
    "    return np.array(v1 @ v2.T / norm(v1) / norm(v2))[0][0]"
   ]
  },
  {
   "cell_type": "code",
   "execution_count": 119,
   "metadata": {
    "ExecuteTime": {
     "end_time": "2022-09-05T12:51:11.707143Z",
     "start_time": "2022-09-05T12:51:11.698900Z"
    },
    "colab": {
     "base_uri": "https://localhost:8080/"
    },
    "id": "l_FrKM6k6MkY",
    "outputId": "462e7b13-1aa4-4506-e605-49feaf5ab150"
   },
   "outputs": [
    {
     "data": {
      "text/plain": [
       "1.0"
      ]
     },
     "execution_count": 119,
     "metadata": {},
     "output_type": "execute_result"
    }
   ],
   "source": [
    "cosine_sim(dense_vectors[0], dense_vectors[0])"
   ]
  },
  {
   "cell_type": "code",
   "execution_count": 120,
   "metadata": {
    "ExecuteTime": {
     "end_time": "2022-09-05T12:51:18.667405Z",
     "start_time": "2022-09-05T12:51:18.662043Z"
    },
    "id": "L1XF-isH6Mkh"
   },
   "outputs": [],
   "source": [
    "cosines = []\n",
    "for i in range(10):\n",
    "    cosines.append(cosine_sim(dense_vectors[0], dense_vectors[i]))"
   ]
  },
  {
   "cell_type": "code",
   "execution_count": 121,
   "metadata": {
    "ExecuteTime": {
     "end_time": "2022-09-05T12:51:19.306279Z",
     "start_time": "2022-09-05T12:51:19.296344Z"
    },
    "colab": {
     "base_uri": "https://localhost:8080/"
    },
    "id": "ODwgYEbe6Mkl",
    "outputId": "b6959653-9dea-438a-9590-9c2afedceab4"
   },
   "outputs": [
    {
     "data": {
      "text/plain": [
       "[1.0,\n",
       " 0.041782362358645804,\n",
       " 0.005842679234116733,\n",
       " 0.09707495599400802,\n",
       " 0.07093705916956802,\n",
       " 0.06692990196638178,\n",
       " 0.033516599735622425,\n",
       " 0.2272793164841566,\n",
       " 0.031791223721652204,\n",
       " 0.06907603289500594]"
      ]
     },
     "execution_count": 121,
     "metadata": {},
     "output_type": "execute_result"
    }
   ],
   "source": [
    "# [1, 3, 2, 0, 2, 0, 2, 1, 2, 1]\n",
    "cosines"
   ]
  },
  {
   "cell_type": "markdown",
   "metadata": {
    "id": "SRZyJP3c6Mkq"
   },
   "source": [
    "#### Обучим любую известную модель на полученных признаках"
   ]
  },
  {
   "cell_type": "code",
   "execution_count": 123,
   "metadata": {
    "ExecuteTime": {
     "end_time": "2022-09-05T12:52:04.016644Z",
     "start_time": "2022-09-05T12:52:03.997915Z"
    },
    "colab": {
     "base_uri": "https://localhost:8080/"
    },
    "id": "4RDfl72A6Mks",
    "outputId": "881d3b15-aa8b-479b-ce66-a06e91e47824"
   },
   "outputs": [
    {
     "data": {
      "text/plain": [
       "((1627,), (407,))"
      ]
     },
     "execution_count": 123,
     "metadata": {},
     "output_type": "execute_result"
    }
   ],
   "source": [
    "from sklearn.model_selection import train_test_split\n",
    "from sklearn.metrics import accuracy_score\n",
    "from sklearn import svm\n",
    "from sklearn.linear_model import SGDClassifier\n",
    "\n",
    "X_train, X_test, y_train, y_test= train_test_split(\n",
    "    dense_vectors, newsgroups_train.target, test_size=0.2, random_state=0)\n",
    "y_train.shape, y_test.shape"
   ]
  },
  {
   "cell_type": "code",
   "execution_count": 124,
   "metadata": {
    "ExecuteTime": {
     "end_time": "2022-09-05T12:52:05.924493Z",
     "start_time": "2022-09-05T12:52:04.180086Z"
    },
    "colab": {
     "base_uri": "https://localhost:8080/"
    },
    "id": "vjfwduNp6Mlo",
    "outputId": "8d86a9ea-2a38-487a-8147-1b2d6f5c7ab6"
   },
   "outputs": [
    {
     "name": "stderr",
     "output_type": "stream",
     "text": [
      "/Users/antonermak/opt/anaconda3/lib/python3.9/site-packages/sklearn/utils/validation.py:593: FutureWarning: np.matrix usage is deprecated in 1.0 and will raise a TypeError in 1.2. Please convert to a numpy array with np.asarray. For more information see: https://numpy.org/doc/stable/reference/generated/numpy.matrix.html\n",
      "  warnings.warn(\n"
     ]
    },
    {
     "name": "stdout",
     "output_type": "stream",
     "text": [
      "CPU times: user 1.52 s, sys: 39.8 ms, total: 1.56 s\n",
      "Wall time: 1.73 s\n"
     ]
    },
    {
     "data": {
      "text/plain": [
       "SVC()"
      ]
     },
     "execution_count": 124,
     "metadata": {},
     "output_type": "execute_result"
    }
   ],
   "source": [
    "%%time\n",
    "svc = svm.SVC()\n",
    "svc.fit(X_train, y_train)"
   ]
  },
  {
   "cell_type": "code",
   "execution_count": 125,
   "metadata": {
    "ExecuteTime": {
     "end_time": "2022-09-05T12:52:06.363297Z",
     "start_time": "2022-09-05T12:52:05.927935Z"
    },
    "colab": {
     "base_uri": "https://localhost:8080/"
    },
    "id": "N6Evwipx6Mlv",
    "outputId": "943c6663-6329-4ad4-d040-1f54b4ea80f7"
   },
   "outputs": [
    {
     "name": "stderr",
     "output_type": "stream",
     "text": [
      "/Users/antonermak/opt/anaconda3/lib/python3.9/site-packages/sklearn/utils/validation.py:593: FutureWarning: np.matrix usage is deprecated in 1.0 and will raise a TypeError in 1.2. Please convert to a numpy array with np.asarray. For more information see: https://numpy.org/doc/stable/reference/generated/numpy.matrix.html\n",
      "  warnings.warn(\n"
     ]
    },
    {
     "data": {
      "text/plain": [
       "0.918918918918919"
      ]
     },
     "execution_count": 125,
     "metadata": {},
     "output_type": "execute_result"
    }
   ],
   "source": [
    "accuracy_score(y_test, svc.predict(X_test))"
   ]
  },
  {
   "cell_type": "code",
   "execution_count": 126,
   "metadata": {
    "ExecuteTime": {
     "end_time": "2022-09-05T12:52:14.637211Z",
     "start_time": "2022-09-05T12:52:14.314749Z"
    },
    "colab": {
     "base_uri": "https://localhost:8080/"
    },
    "id": "6EBZRbXT6Mly",
    "outputId": "1b992f83-1c25-4e3d-f536-b284d660e1e4"
   },
   "outputs": [
    {
     "name": "stderr",
     "output_type": "stream",
     "text": [
      "/Users/antonermak/opt/anaconda3/lib/python3.9/site-packages/sklearn/utils/validation.py:593: FutureWarning: np.matrix usage is deprecated in 1.0 and will raise a TypeError in 1.2. Please convert to a numpy array with np.asarray. For more information see: https://numpy.org/doc/stable/reference/generated/numpy.matrix.html\n",
      "  warnings.warn(\n",
      "/Users/antonermak/opt/anaconda3/lib/python3.9/site-packages/sklearn/utils/validation.py:593: FutureWarning: np.matrix usage is deprecated in 1.0 and will raise a TypeError in 1.2. Please convert to a numpy array with np.asarray. For more information see: https://numpy.org/doc/stable/reference/generated/numpy.matrix.html\n",
      "  warnings.warn(\n"
     ]
    },
    {
     "data": {
      "text/plain": [
       "0.9238329238329238"
      ]
     },
     "execution_count": 126,
     "metadata": {},
     "output_type": "execute_result"
    }
   ],
   "source": [
    "sgd = SGDClassifier()\n",
    "sgd.fit(X_train, y_train)\n",
    "accuracy_score(y_test, sgd.predict(X_test))"
   ]
  },
  {
   "cell_type": "code",
   "execution_count": 134,
   "metadata": {
    "ExecuteTime": {
     "end_time": "2022-09-05T12:56:41.649086Z",
     "start_time": "2022-09-05T12:56:41.019162Z"
    }
   },
   "outputs": [],
   "source": [
    "from mlxtend.evaluate import confusion_matrix\n",
    "from mlxtend.plotting import plot_confusion_matrix"
   ]
  },
  {
   "cell_type": "code",
   "execution_count": 135,
   "metadata": {
    "ExecuteTime": {
     "end_time": "2022-09-05T12:57:05.645991Z",
     "start_time": "2022-09-05T12:57:05.360039Z"
    }
   },
   "outputs": [
    {
     "name": "stderr",
     "output_type": "stream",
     "text": [
      "/Users/antonermak/opt/anaconda3/lib/python3.9/site-packages/sklearn/utils/validation.py:593: FutureWarning: np.matrix usage is deprecated in 1.0 and will raise a TypeError in 1.2. Please convert to a numpy array with np.asarray. For more information see: https://numpy.org/doc/stable/reference/generated/numpy.matrix.html\n",
      "  warnings.warn(\n"
     ]
    },
    {
     "data": {
      "image/png": "[encoded data removed]",
      "text/plain": [
       "<Figure size 432x288 with 2 Axes>"
      ]
     },
     "metadata": {
      "needs_background": "light"
     },
     "output_type": "display_data"
    }
   ],
   "source": [
    "cm1 = confusion_matrix(y_target = y_test, \n",
    "                       y_predicted = sgd.predict(X_test))\n",
    "fig, ax = plot_confusion_matrix(conf_mat = cm1,\n",
    "                                show_absolute = True,\n",
    "                                show_normed = True,\n",
    "                                colorbar = True,\n",
    "                                cmap = 'Purples');"
   ]
  },
  {
   "cell_type": "markdown",
   "metadata": {
    "id": "i5OAwBJ0LuPb"
   },
   "source": [
    "### Embeddings"
   ]
  },
  {
   "cell_type": "markdown",
   "metadata": {
    "ExecuteTime": {
     "end_time": "2022-09-05T12:58:03.860090Z",
     "start_time": "2022-09-05T12:58:03.852264Z"
    }
   },
   "source": [
    "`Gensim` is an open-source library for unsupervised topic modeling, document indexing, retrieval by similarity, and other natural language processing functionalities, using modern statistical machine learning."
   ]
  },
  {
   "cell_type": "code",
   "execution_count": 136,
   "metadata": {
    "ExecuteTime": {
     "end_time": "2022-09-05T12:57:39.181642Z",
     "start_time": "2022-09-05T12:57:12.033833Z"
    },
    "id": "SKLGAYPvPJcJ"
   },
   "outputs": [],
   "source": [
    "import gensim.downloader as api\n",
    "embeddings_pretrained = api.load('glove-twitter-25')"
   ]
  },
  {
   "cell_type": "code",
   "execution_count": 137,
   "metadata": {
    "ExecuteTime": {
     "end_time": "2022-09-05T12:57:50.285922Z",
     "start_time": "2022-09-05T12:57:39.184229Z"
    },
    "id": "fmH3vc7FSCuP"
   },
   "outputs": [],
   "source": [
    "from gensim.models import Word2Vec\n",
    "\n",
    "proc_words = [preproc_nltk(text).split() for text in newsgroups_train.data]\n",
    "embeddings_trained = Word2Vec(proc_words, # data for model to train on\n",
    "                 size=100,                 # embedding vector size\n",
    "                 min_count=3,             # consider words that occured at least 5 times\n",
    "                 window=3).wv"
   ]
  },
  {
   "cell_type": "code",
   "execution_count": 148,
   "metadata": {
    "ExecuteTime": {
     "end_time": "2022-09-05T13:00:44.725731Z",
     "start_time": "2022-09-05T13:00:44.715402Z"
    }
   },
   "outputs": [
    {
     "data": {
      "text/plain": [
       "[':',\n",
       " 'rych',\n",
       " '@',\n",
       " 'festival.ed.ac.uk',\n",
       " '(',\n",
       " 'r',\n",
       " 'hawkes',\n",
       " ')',\n",
       " 'subject',\n",
       " ':',\n",
       " '3d',\n",
       " ':',\n",
       " 'texture',\n",
       " 'rule',\n",
       " 'go',\n",
       " '?',\n",
       " 'line',\n",
       " ':',\n",
       " '21',\n",
       " 'hi',\n",
       " ',',\n",
       " \"'ve\",\n",
       " 'noticed',\n",
       " 'save',\n",
       " 'model',\n",
       " '(',\n",
       " 'mapping',\n",
       " 'plane',\n",
       " 'positioned',\n",
       " 'carefully',\n",
       " ')',\n",
       " '.3ds',\n",
       " 'file',\n",
       " 'reload',\n",
       " 'restarting',\n",
       " '3d',\n",
       " ',',\n",
       " 'given',\n",
       " 'default',\n",
       " 'position',\n",
       " 'orientation',\n",
       " '.',\n",
       " 'save',\n",
       " '.prj',\n",
       " 'file',\n",
       " 'positions/orientation',\n",
       " 'preserved',\n",
       " '.',\n",
       " 'anyone',\n",
       " 'know',\n",
       " 'information',\n",
       " 'stored',\n",
       " '.3ds',\n",
       " 'file',\n",
       " '?',\n",
       " 'nothing',\n",
       " 'explicitly',\n",
       " 'said',\n",
       " 'manual',\n",
       " 'saving',\n",
       " 'texture',\n",
       " 'rule',\n",
       " '.prj',\n",
       " 'file',\n",
       " '.',\n",
       " \"'d\",\n",
       " 'like',\n",
       " 'able',\n",
       " 'read',\n",
       " 'texture',\n",
       " 'rule',\n",
       " 'information',\n",
       " ',',\n",
       " 'anyone',\n",
       " 'format',\n",
       " '.prj',\n",
       " 'file',\n",
       " '?',\n",
       " '.cel',\n",
       " 'file',\n",
       " 'format',\n",
       " 'available',\n",
       " 'somewhere',\n",
       " '?',\n",
       " 'rych',\n",
       " '======================================================================',\n",
       " 'rycharde',\n",
       " 'hawkes',\n",
       " 'email',\n",
       " ':',\n",
       " 'rych',\n",
       " '@',\n",
       " 'festival.ed.ac.uk',\n",
       " 'virtual',\n",
       " 'environment',\n",
       " 'laboratory',\n",
       " 'dept',\n",
       " '.',\n",
       " 'psychology',\n",
       " 'tel',\n",
       " ':',\n",
       " '+44',\n",
       " '31',\n",
       " '650',\n",
       " '3426',\n",
       " 'univ',\n",
       " '.',\n",
       " 'edinburgh',\n",
       " 'fax',\n",
       " ':',\n",
       " '+44',\n",
       " '31',\n",
       " '667',\n",
       " '0150',\n",
       " '======================================================================']"
      ]
     },
     "execution_count": 148,
     "metadata": {},
     "output_type": "execute_result"
    }
   ],
   "source": [
    "proc_words[0]"
   ]
  },
  {
   "cell_type": "code",
   "execution_count": 139,
   "metadata": {
    "ExecuteTime": {
     "end_time": "2022-09-05T12:58:16.803306Z",
     "start_time": "2022-09-05T12:58:16.797850Z"
    },
    "id": "0Lq20widPJcO"
   },
   "outputs": [],
   "source": [
    "def vectorize_sum(comment, embeddings):\n",
    "    \"\"\"\n",
    "    implement a function that converts preprocessed comment to a sum of token vectors\n",
    "    \"\"\"\n",
    "    embedding_dim = embeddings.vectors.shape[1]\n",
    "    features = np.zeros([embedding_dim], dtype='float32')\n",
    "\n",
    "    for word in preproc_nltk(comment).split():\n",
    "        if word in embeddings:\n",
    "            features += embeddings[f'{word}']\n",
    "    \n",
    "    return features"
   ]
  },
  {
   "cell_type": "code",
   "execution_count": 140,
   "metadata": {
    "ExecuteTime": {
     "end_time": "2022-09-05T12:58:17.094547Z",
     "start_time": "2022-09-05T12:58:17.086366Z"
    },
    "colab": {
     "base_uri": "https://localhost:8080/"
    },
    "id": "h1KaMKBHsSHd",
    "outputId": "65336ef9-6d63-4c40-881d-d22ca4b8b2c5"
   },
   "outputs": [
    {
     "data": {
      "text/plain": [
       "13566"
      ]
     },
     "execution_count": 140,
     "metadata": {},
     "output_type": "execute_result"
    }
   ],
   "source": [
    "len(embeddings_trained.index2word)"
   ]
  },
  {
   "cell_type": "code",
   "execution_count": null,
   "metadata": {},
   "outputs": [],
   "source": [
    "# на предобученных эмебедингах по твиттеру"
   ]
  },
  {
   "cell_type": "code",
   "execution_count": 151,
   "metadata": {
    "ExecuteTime": {
     "end_time": "2022-09-05T13:01:37.815249Z",
     "start_time": "2022-09-05T13:01:37.805381Z"
    }
   },
   "outputs": [
    {
     "data": {
      "text/plain": [
       "((1627, 25), (407, 25))"
      ]
     },
     "execution_count": 151,
     "metadata": {},
     "output_type": "execute_result"
    }
   ],
   "source": [
    "X_wv = np.stack([vectorize_sum(text, embeddings_pretrained) for text in newsgroups_train.data])\n",
    "X_train_wv, X_test_wv, y_train, y_test = train_test_split(X_wv, newsgroups_train.target, test_size=0.2, random_state=0)\n",
    "X_train_wv.shape, X_test_wv.shape"
   ]
  },
  {
   "cell_type": "code",
   "execution_count": 152,
   "metadata": {
    "ExecuteTime": {
     "end_time": "2022-09-05T13:01:41.113635Z",
     "start_time": "2022-09-05T13:01:38.549211Z"
    },
    "colab": {
     "base_uri": "https://localhost:8080/"
    },
    "id": "oWhQ007PPJcn",
    "outputId": "ba51dbd6-e7ef-4ed5-eac0-948d32f76a5c"
   },
   "outputs": [
    {
     "data": {
      "text/plain": [
       "0.7051597051597052"
      ]
     },
     "execution_count": 152,
     "metadata": {},
     "output_type": "execute_result"
    }
   ],
   "source": [
    "from sklearn.linear_model import LogisticRegression\n",
    "from sklearn.metrics import roc_auc_score\n",
    "\n",
    "clf = LogisticRegression(max_iter=5000)\n",
    "wv_model = clf.fit(X_train_wv, y_train)\n",
    "accuracy_score(y_test, wv_model.predict(X_test_wv))"
   ]
  },
  {
   "cell_type": "code",
   "execution_count": null,
   "metadata": {},
   "outputs": [],
   "source": [
    "# на эмебедингах, обученных на новостях из датасета"
   ]
  },
  {
   "cell_type": "code",
   "execution_count": 153,
   "metadata": {
    "ExecuteTime": {
     "end_time": "2022-09-05T13:01:51.687183Z",
     "start_time": "2022-09-05T13:01:43.600175Z"
    },
    "colab": {
     "base_uri": "https://localhost:8080/"
    },
    "id": "oT_Rr4nOUUu8",
    "outputId": "08a28d12-283e-4eab-d80c-6208cc6ceadd"
   },
   "outputs": [
    {
     "data": {
      "text/plain": [
       "((1627, 100), (407, 100))"
      ]
     },
     "execution_count": 153,
     "metadata": {},
     "output_type": "execute_result"
    }
   ],
   "source": [
    "X_wv = np.stack([vectorize_sum(text, embeddings_trained) for text in newsgroups_train.data])\n",
    "X_train_wv, X_test_wv, y_train, y_test = train_test_split(X_wv, newsgroups_train.target, test_size=0.2, random_state=0)\n",
    "X_train_wv.shape, X_test_wv.shape"
   ]
  },
  {
   "cell_type": "code",
   "execution_count": 154,
   "metadata": {
    "ExecuteTime": {
     "end_time": "2022-09-05T13:02:00.949909Z",
     "start_time": "2022-09-05T13:01:51.693405Z"
    },
    "colab": {
     "base_uri": "https://localhost:8080/"
    },
    "id": "uVMeZBLbVMjO",
    "outputId": "653442de-cfa8-4170-bfa6-1f87e00a6e29"
   },
   "outputs": [
    {
     "name": "stderr",
     "output_type": "stream",
     "text": [
      "/Users/antonermak/opt/anaconda3/lib/python3.9/site-packages/sklearn/linear_model/_logistic.py:814: ConvergenceWarning: lbfgs failed to converge (status=1):\n",
      "STOP: TOTAL NO. of ITERATIONS REACHED LIMIT.\n",
      "\n",
      "Increase the number of iterations (max_iter) or scale the data as shown in:\n",
      "    https://scikit-learn.org/stable/modules/preprocessing.html\n",
      "Please also refer to the documentation for alternative solver options:\n",
      "    https://scikit-learn.org/stable/modules/linear_model.html#logistic-regression\n",
      "  n_iter_i = _check_optimize_result(\n"
     ]
    },
    {
     "data": {
      "text/plain": [
       "0.8378378378378378"
      ]
     },
     "execution_count": 154,
     "metadata": {},
     "output_type": "execute_result"
    }
   ],
   "source": [
    "from sklearn.linear_model import LogisticRegression\n",
    "from sklearn.metrics import roc_auc_score\n",
    "\n",
    "clf = LogisticRegression(max_iter=10000)\n",
    "wv_model = clf.fit(X_train_wv, y_train)\n",
    "accuracy_score(y_test, wv_model.predict(X_test_wv))"
   ]
  },
  {
   "cell_type": "code",
   "execution_count": 155,
   "metadata": {
    "ExecuteTime": {
     "end_time": "2022-09-05T13:02:14.595413Z",
     "start_time": "2022-09-05T13:02:14.339670Z"
    },
    "id": "F_K8NLmDVds1"
   },
   "outputs": [
    {
     "data": {
      "image/png": "[encoded data removed]",
      "text/plain": [
       "<Figure size 432x288 with 2 Axes>"
      ]
     },
     "metadata": {
      "needs_background": "light"
     },
     "output_type": "display_data"
    }
   ],
   "source": [
    "cm2 = confusion_matrix(y_target = y_test, \n",
    "                       y_predicted = wv_model.predict(X_test_wv))\n",
    "fig, ax = plot_confusion_matrix(conf_mat = cm1,\n",
    "                                show_absolute = True,\n",
    "                                show_normed = True,\n",
    "                                colorbar = True,\n",
    "                                cmap = 'Purples');"
   ]
  },
  {
   "cell_type": "code",
   "execution_count": null,
   "metadata": {},
   "outputs": [],
   "source": []
  },
  {
   "cell_type": "code",
   "execution_count": 159,
   "metadata": {
    "ExecuteTime": {
     "end_time": "2022-09-05T13:09:25.086238Z",
     "start_time": "2022-09-05T13:09:25.078159Z"
    }
   },
   "outputs": [
    {
     "data": {
      "text/plain": [
       "1193514"
      ]
     },
     "execution_count": 159,
     "metadata": {},
     "output_type": "execute_result"
    }
   ],
   "source": [
    "len(embeddings_pretrained.index2word)"
   ]
  },
  {
   "cell_type": "code",
   "execution_count": 161,
   "metadata": {
    "ExecuteTime": {
     "end_time": "2022-09-05T13:09:56.182066Z",
     "start_time": "2022-09-05T13:09:56.151213Z"
    }
   },
   "outputs": [
    {
     "data": {
      "text/plain": [
       "['<user>',\n",
       " '.',\n",
       " ':',\n",
       " 'rt',\n",
       " ',',\n",
       " '<repeat>',\n",
       " '<hashtag>',\n",
       " '<number>',\n",
       " '<url>',\n",
       " '!',\n",
       " 'i',\n",
       " 'a',\n",
       " '\"',\n",
       " 'the',\n",
       " '?',\n",
       " 'you',\n",
       " 'to',\n",
       " '(',\n",
       " '<allcaps>',\n",
       " '<elong>',\n",
       " ')',\n",
       " 'me',\n",
       " 'de',\n",
       " '<smile>',\n",
       " '！',\n",
       " 'que',\n",
       " 'and',\n",
       " '。',\n",
       " '-',\n",
       " 'my',\n",
       " 'no',\n",
       " '、',\n",
       " 'is',\n",
       " 'it',\n",
       " '…',\n",
       " 'in',\n",
       " 'n',\n",
       " 'for',\n",
       " '/',\n",
       " 'of',\n",
       " 'la',\n",
       " \"'s\",\n",
       " '*',\n",
       " 'do',\n",
       " \"n't\",\n",
       " 'that',\n",
       " 'on',\n",
       " 'y',\n",
       " \"'\",\n",
       " 'e',\n",
       " 'o',\n",
       " 'u',\n",
       " 'en',\n",
       " 'this',\n",
       " 'el',\n",
       " 'so',\n",
       " 'be',\n",
       " \"'m\",\n",
       " 'with',\n",
       " 'just',\n",
       " '>',\n",
       " 'your',\n",
       " '^',\n",
       " 'like',\n",
       " 'have',\n",
       " 'te',\n",
       " 'at',\n",
       " '？',\n",
       " 'love',\n",
       " 'se',\n",
       " 'are',\n",
       " '<',\n",
       " 'm',\n",
       " 'r',\n",
       " 'if',\n",
       " 'all',\n",
       " 'b',\n",
       " '・',\n",
       " 'not',\n",
       " 'but',\n",
       " 'we',\n",
       " 'es',\n",
       " 'ya',\n",
       " '&',\n",
       " 'follow',\n",
       " 'up',\n",
       " 'what',\n",
       " 'get',\n",
       " 'lol',\n",
       " 'un',\n",
       " '♥',\n",
       " 'lo',\n",
       " 'when',\n",
       " 'was',\n",
       " '“',\n",
       " '”',\n",
       " 'one',\n",
       " 'por',\n",
       " 'si',\n",
       " 'out',\n",
       " '_',\n",
       " 'mi',\n",
       " 'can',\n",
       " '<sadface>',\n",
       " 'من',\n",
       " '♡',\n",
       " '´',\n",
       " 'he',\n",
       " 'con',\n",
       " 'they',\n",
       " 'now',\n",
       " 'go',\n",
       " '،',\n",
       " 'para',\n",
       " 'los',\n",
       " 'know',\n",
       " 'haha',\n",
       " 'good',\n",
       " 'tu',\n",
       " 'back',\n",
       " '~',\n",
       " 'about',\n",
       " 'new',\n",
       " ';',\n",
       " 'as',\n",
       " 'day',\n",
       " 'how',\n",
       " 'who',\n",
       " 'will',\n",
       " 'want',\n",
       " 'people',\n",
       " 'yo',\n",
       " 'eu',\n",
       " 'from',\n",
       " 'di',\n",
       " 'time',\n",
       " '<heart>',\n",
       " 's',\n",
       " 'aku',\n",
       " 'da',\n",
       " \"'re\",\n",
       " '<lolface>',\n",
       " 'una',\n",
       " 'got',\n",
       " 'las',\n",
       " 'more',\n",
       " 'x',\n",
       " 'she',\n",
       " 'today',\n",
       " '（',\n",
       " '>>',\n",
       " 'k',\n",
       " 'by',\n",
       " 'or',\n",
       " 'في',\n",
       " '･',\n",
       " 'too',\n",
       " 'le',\n",
       " 'é',\n",
       " '|',\n",
       " '[',\n",
       " '）',\n",
       " ']',\n",
       " 'see',\n",
       " 'why',\n",
       " 'yg',\n",
       " 'ca',\n",
       " 'como',\n",
       " 'her',\n",
       " '—',\n",
       " 'q',\n",
       " 'need',\n",
       " 'an',\n",
       " 'na',\n",
       " '笑',\n",
       " 'there',\n",
       " 'ω',\n",
       " 'happy',\n",
       " 'im',\n",
       " 'mas',\n",
       " 'je',\n",
       " 'life',\n",
       " 'really',\n",
       " 'make',\n",
       " 'yang',\n",
       " 'shit',\n",
       " 'think',\n",
       " 't',\n",
       " '❤',\n",
       " 'não',\n",
       " 'never',\n",
       " 'some',\n",
       " '～',\n",
       " 'oh',\n",
       " '★',\n",
       " 'did',\n",
       " 'would',\n",
       " 'del',\n",
       " '`',\n",
       " 'd',\n",
       " 'please',\n",
       " 'via',\n",
       " 'much',\n",
       " 'fuck',\n",
       " 'al',\n",
       " 'dia',\n",
       " '$',\n",
       " 'و',\n",
       " 'right',\n",
       " 'best',\n",
       " 'c',\n",
       " 'going',\n",
       " 'الله',\n",
       " 'pero',\n",
       " 'only',\n",
       " 'has',\n",
       " '♪',\n",
       " \"'ll\",\n",
       " 'twitter',\n",
       " '=',\n",
       " 'hahaha',\n",
       " 'its',\n",
       " 'nn',\n",
       " '｀',\n",
       " '¿',\n",
       " 'am',\n",
       " 'say',\n",
       " '<neutralface>',\n",
       " 'them',\n",
       " 'here',\n",
       " 'لا',\n",
       " 'off',\n",
       " 'still',\n",
       " 'dan',\n",
       " '+',\n",
       " 'night',\n",
       " 'w',\n",
       " 'ada',\n",
       " 'someone',\n",
       " 'even',\n",
       " 'then',\n",
       " '☆',\n",
       " 'ni',\n",
       " 'come',\n",
       " 'com',\n",
       " 'always',\n",
       " 'man',\n",
       " \"'ve\",\n",
       " 'been',\n",
       " 'his',\n",
       " 'itu',\n",
       " 'على',\n",
       " '-_-',\n",
       " '☺',\n",
       " 'over',\n",
       " 'um',\n",
       " 'ما',\n",
       " 'hate',\n",
       " 'girl',\n",
       " 'ai',\n",
       " 'had',\n",
       " 'pra',\n",
       " 'todo',\n",
       " 'mais',\n",
       " 'feel',\n",
       " 'let',\n",
       " 'ini',\n",
       " 'because',\n",
       " 'ﾟ',\n",
       " 'thanks',\n",
       " 'ah',\n",
       " 'way',\n",
       " 'ever',\n",
       " 'look',\n",
       " 'tweet',\n",
       " 'followers',\n",
       " 'should',\n",
       " 'our',\n",
       " 'xd',\n",
       " 'aja',\n",
       " 'esta',\n",
       " 'school',\n",
       " 'him',\n",
       " 'ser',\n",
       " 'take',\n",
       " 'than',\n",
       " 'video',\n",
       " 'em',\n",
       " 'last',\n",
       " 'wanna',\n",
       " 'does',\n",
       " 'us',\n",
       " 'miss',\n",
       " 'l',\n",
       " 'ga',\n",
       " 'better',\n",
       " 'well',\n",
       " 'could',\n",
       " '▽',\n",
       " '%',\n",
       " 'apa',\n",
       " 'cuando',\n",
       " 'team',\n",
       " '✔',\n",
       " '@',\n",
       " 'ok',\n",
       " '؟',\n",
       " '•',\n",
       " 'vida',\n",
       " 'quiero',\n",
       " 'les',\n",
       " 'being',\n",
       " 'real',\n",
       " 'down',\n",
       " 'kamu',\n",
       " 'everyone',\n",
       " 'gonna',\n",
       " 'live',\n",
       " 'tonight',\n",
       " 'yes',\n",
       " 'work',\n",
       " 'ass',\n",
       " 'retweet',\n",
       " 'nada',\n",
       " 'sama',\n",
       " 'first',\n",
       " '<<',\n",
       " 'photo',\n",
       " 'tomorrow',\n",
       " 'where',\n",
       " 'god',\n",
       " 'son',\n",
       " 'ke',\n",
       " 'ta',\n",
       " 'f',\n",
       " 'home',\n",
       " 'lagi',\n",
       " 'thank',\n",
       " 'birthday',\n",
       " '█',\n",
       " 'ha',\n",
       " 'great',\n",
       " 'lmao',\n",
       " 'omg',\n",
       " 'morning',\n",
       " 'más',\n",
       " 'mau',\n",
       " 'baby',\n",
       " 'dont',\n",
       " '｡',\n",
       " 'their',\n",
       " 'p',\n",
       " 'things',\n",
       " 'game',\n",
       " 'pas',\n",
       " 'bad',\n",
       " 'year',\n",
       " 'yeah',\n",
       " 'su',\n",
       " 'bitch',\n",
       " 'в',\n",
       " 'stop',\n",
       " 'hoy',\n",
       " 'something',\n",
       " 'meu',\n",
       " 'tak',\n",
       " 'gak',\n",
       " 'world',\n",
       " 'amor',\n",
       " 'h',\n",
       " '\\\\',\n",
       " 'ver',\n",
       " '；',\n",
       " 'porque',\n",
       " 'give',\n",
       " 'these',\n",
       " 'اللهم',\n",
       " 'were',\n",
       " 'hay',\n",
       " 'sleep',\n",
       " 'gue',\n",
       " 'every',\n",
       " 'friends',\n",
       " 'uma',\n",
       " 'tell',\n",
       " 'amo',\n",
       " 'vou',\n",
       " 'bien',\n",
       " '¡',\n",
       " 'again',\n",
       " '＾',\n",
       " '／',\n",
       " 'done',\n",
       " 'after',\n",
       " 'todos',\n",
       " 'girls',\n",
       " 'guys',\n",
       " 'getting',\n",
       " 'big',\n",
       " 'wait',\n",
       " 'justin',\n",
       " 'eh',\n",
       " '→',\n",
       " 'kan',\n",
       " 'kita',\n",
       " 'jajaja',\n",
       " 'wish',\n",
       " 'said',\n",
       " 'fucking',\n",
       " 'show',\n",
       " 'thing',\n",
       " 'next',\n",
       " 'você',\n",
       " 'nos',\n",
       " 'little',\n",
       " 'tengo',\n",
       " 'keep',\n",
       " 'person',\n",
       " \"''\",\n",
       " '∀',\n",
       " 'hope',\n",
       " 'كل',\n",
       " 'hey',\n",
       " 'bisa',\n",
       " 'free',\n",
       " 'made',\n",
       " 'foto',\n",
       " 'va',\n",
       " 'everything',\n",
       " 'iya',\n",
       " 'nigga',\n",
       " 'eso',\n",
       " 'et',\n",
       " 'watch',\n",
       " 'music',\n",
       " 'week',\n",
       " 'talk',\n",
       " 'ne',\n",
       " 'solo',\n",
       " 'gente',\n",
       " 'udah',\n",
       " '：',\n",
       " '--',\n",
       " '＼',\n",
       " 'mejor',\n",
       " 'facebook',\n",
       " 'ma',\n",
       " 'v',\n",
       " 'phone',\n",
       " 'most',\n",
       " 'same',\n",
       " 'okay',\n",
       " 'ik',\n",
       " 'before',\n",
       " 'minha',\n",
       " 'days',\n",
       " 'g',\n",
       " 'ti',\n",
       " 'damn',\n",
       " 'nice',\n",
       " 'voy',\n",
       " 'vai',\n",
       " 'call',\n",
       " 'long',\n",
       " 'tapi',\n",
       " 'http',\n",
       " 'sin',\n",
       " 'nunca',\n",
       " 'doing',\n",
       " 'other',\n",
       " 'find',\n",
       " 'il',\n",
       " 'sa',\n",
       " 'sorry',\n",
       " 'nya',\n",
       " 'orang',\n",
       " '°',\n",
       " 'hard',\n",
       " 'mean',\n",
       " 'die',\n",
       " 'اللي',\n",
       " 'tem',\n",
       " 'soy',\n",
       " 'este',\n",
       " 'kalo',\n",
       " 'só',\n",
       " 'th',\n",
       " 'win',\n",
       " 'nothing',\n",
       " 'into',\n",
       " 'face',\n",
       " 'cute',\n",
       " \"'d\",\n",
       " 'gracias',\n",
       " 'lah',\n",
       " 'и',\n",
       " 'any',\n",
       " 'play',\n",
       " '←',\n",
       " 'ko',\n",
       " 'text',\n",
       " '⌣',\n",
       " 'estoy',\n",
       " 'tau',\n",
       " 'ur',\n",
       " 'buat',\n",
       " '#',\n",
       " 'cause',\n",
       " 'я',\n",
       " 'put',\n",
       " 'kau',\n",
       " 'siempre',\n",
       " 'juga',\n",
       " 'casa',\n",
       " 'أن',\n",
       " 'help',\n",
       " 'start',\n",
       " 'feliz',\n",
       " 'old',\n",
       " 'ir',\n",
       " 'very',\n",
       " 'care',\n",
       " 'bir',\n",
       " 'makes',\n",
       " 'song',\n",
       " 'check',\n",
       " 'watching',\n",
       " 'ahora',\n",
       " 'jadi',\n",
       " 'os',\n",
       " 'may',\n",
       " 'friend',\n",
       " 'beautiful',\n",
       " 'heart',\n",
       " 'ka',\n",
       " 'vc',\n",
       " 'mundo',\n",
       " 'на',\n",
       " 'sure',\n",
       " 'tan',\n",
       " 'pretty',\n",
       " 'aqui',\n",
       " 'не',\n",
       " 'house',\n",
       " 'رتويت',\n",
       " 'يا',\n",
       " 'ja',\n",
       " 'true',\n",
       " 'muy',\n",
       " 'away',\n",
       " 'already',\n",
       " 'actually',\n",
       " 'believe',\n",
       " 'try',\n",
       " 'many',\n",
       " 'mañana',\n",
       " 'mis',\n",
       " 'lu',\n",
       " 'those',\n",
       " 'hot',\n",
       " 'qué',\n",
       " 'mal',\n",
       " 'عن',\n",
       " 'though',\n",
       " 'ask',\n",
       " 'amazing',\n",
       " 'bed',\n",
       " '}',\n",
       " 'two',\n",
       " 'mom',\n",
       " 'día',\n",
       " 've',\n",
       " 'dari',\n",
       " 'gameinsight',\n",
       " 'stay',\n",
       " 'fun',\n",
       " 'around',\n",
       " 'van',\n",
       " 'cont',\n",
       " 'ready',\n",
       " 'money',\n",
       " 'bu',\n",
       " 'funny',\n",
       " 'cool',\n",
       " 'hair',\n",
       " 'à',\n",
       " 'tho',\n",
       " '{',\n",
       " 'wo',\n",
       " 'hi',\n",
       " 'name',\n",
       " 'tiene',\n",
       " 'hahahaha',\n",
       " 'pa',\n",
       " 'algo',\n",
       " 'gotta',\n",
       " 'ولا',\n",
       " 'boy',\n",
       " 'another',\n",
       " \"c'est\",\n",
       " 'hari',\n",
       " 'jajajaja',\n",
       " 'having',\n",
       " 'cara',\n",
       " 'jaja',\n",
       " 'dm',\n",
       " 'looking',\n",
       " 'top',\n",
       " 'android',\n",
       " 'dah',\n",
       " 'wow',\n",
       " '░',\n",
       " 'eres',\n",
       " 'ben',\n",
       " 'must',\n",
       " 'news',\n",
       " 'met',\n",
       " 'está',\n",
       " 'nih',\n",
       " 'family',\n",
       " 'black',\n",
       " 'thought',\n",
       " 'nak',\n",
       " 'super',\n",
       " 'end',\n",
       " 'hace',\n",
       " 'remember',\n",
       " 'ama',\n",
       " 'party',\n",
       " 'cant',\n",
       " 'vamos',\n",
       " 'anything',\n",
       " 'anyone',\n",
       " 'فولو',\n",
       " 'perfect',\n",
       " 'guy',\n",
       " 'vez',\n",
       " 'christmas',\n",
       " 'dos',\n",
       " 'bueno',\n",
       " 'nao',\n",
       " 'years',\n",
       " 'vote',\n",
       " 'dormir',\n",
       " 'bro',\n",
       " 'else',\n",
       " 'quien',\n",
       " 'untuk',\n",
       " 'jangan',\n",
       " 'myself',\n",
       " 'head',\n",
       " 'mind',\n",
       " 'gua',\n",
       " 'talking',\n",
       " 'while',\n",
       " 'dat',\n",
       " 'food',\n",
       " 'д',\n",
       " 'coming',\n",
       " 'wkwk',\n",
       " 'trying',\n",
       " 'saya',\n",
       " 'mucho',\n",
       " 'without',\n",
       " 'wrong',\n",
       " '’s',\n",
       " 'baru',\n",
       " '__',\n",
       " 'hehe',\n",
       " 'hacer',\n",
       " 'lot',\n",
       " 'followed',\n",
       " 'crazy',\n",
       " 'hell',\n",
       " 'feeling',\n",
       " 'des',\n",
       " 'kok',\n",
       " 'j',\n",
       " 'stats',\n",
       " \"j'\",\n",
       " 'ان',\n",
       " 'tweets',\n",
       " 'non',\n",
       " 'cosas',\n",
       " 'era',\n",
       " 'high',\n",
       " 'niggas',\n",
       " 'change',\n",
       " 'movie',\n",
       " 'xx',\n",
       " 'mad',\n",
       " 'sih',\n",
       " 'sometimes',\n",
       " 'deh',\n",
       " 'allah',\n",
       " 'through',\n",
       " 'pour',\n",
       " 'ela',\n",
       " 'soon',\n",
       " 'gone',\n",
       " 'playing',\n",
       " 'smile',\n",
       " 'bukan',\n",
       " 'tv',\n",
       " 'fans',\n",
       " 'hasta',\n",
       " 'akan',\n",
       " \"y'\",\n",
       " 'looks',\n",
       " 'isso',\n",
       " '✌',\n",
       " 'tired',\n",
       " 'boys',\n",
       " 'might',\n",
       " 'dong',\n",
       " 'lg',\n",
       " 'use',\n",
       " 'maybe',\n",
       " 'until',\n",
       " 'menos',\n",
       " 'own',\n",
       " 'dengan',\n",
       " 'eat',\n",
       " 'ou',\n",
       " 'weekend',\n",
       " '˘',\n",
       " 'class',\n",
       " 'ele',\n",
       " 'harry',\n",
       " 'iphone',\n",
       " 'friday',\n",
       " 'single',\n",
       " 'ff',\n",
       " 'awesome',\n",
       " 'bout',\n",
       " 'muito',\n",
       " 'hoje',\n",
       " '¬',\n",
       " 'dios',\n",
       " 'such',\n",
       " 'estar',\n",
       " 'já',\n",
       " 'quando',\n",
       " 'esa',\n",
       " 'making',\n",
       " '━',\n",
       " 'times',\n",
       " 'lmfao',\n",
       " 'gw',\n",
       " 'moment',\n",
       " 'yet',\n",
       " 'aw',\n",
       " 'smh',\n",
       " 'banget',\n",
       " 'masih',\n",
       " 'qui',\n",
       " 'quem',\n",
       " '–',\n",
       " 'leave',\n",
       " 'du',\n",
       " 'une',\n",
       " 'guess',\n",
       " 'hit',\n",
       " 'с',\n",
       " 'pm',\n",
       " 'since',\n",
       " 'pues',\n",
       " 'est',\n",
       " 'job',\n",
       " 'ﾉ',\n",
       " 'mana',\n",
       " 'bom',\n",
       " 'siapa',\n",
       " 'suka',\n",
       " 'bieber',\n",
       " 'mention',\n",
       " 'lebih',\n",
       " 'favorite',\n",
       " 'bitches',\n",
       " 'forever',\n",
       " 'لي',\n",
       " 'final',\n",
       " 'read',\n",
       " 'alguien',\n",
       " 'open',\n",
       " 'yourself',\n",
       " 'ese',\n",
       " 'che',\n",
       " 'sex',\n",
       " 'yaa',\n",
       " 'car',\n",
       " 'direction',\n",
       " 'tidak',\n",
       " 'seu',\n",
       " 'gets',\n",
       " 'left',\n",
       " 're',\n",
       " 'jam',\n",
       " 'enough',\n",
       " 'إلا',\n",
       " 'once',\n",
       " '’',\n",
       " 'part',\n",
       " 'cada',\n",
       " '定期',\n",
       " 'لك',\n",
       " 'een',\n",
       " 'seen',\n",
       " 'kak',\n",
       " 'así',\n",
       " 'nem',\n",
       " 'عمل',\n",
       " 'white',\n",
       " 'told',\n",
       " 'says',\n",
       " 'esto',\n",
       " 'sad',\n",
       " 'mo',\n",
       " 'fue',\n",
       " 'yah',\n",
       " 'summer',\n",
       " 'ه',\n",
       " '⭕',\n",
       " '»',\n",
       " 'thats',\n",
       " 'مع',\n",
       " 'posted',\n",
       " 'wants',\n",
       " 'agora',\n",
       " 'together',\n",
       " 'fan',\n",
       " 'men',\n",
       " 'hear',\n",
       " 'full',\n",
       " '☀',\n",
       " 'sigo',\n",
       " 'pq',\n",
       " 'dulu',\n",
       " 'plus',\n",
       " 'foi',\n",
       " 'tudo',\n",
       " 'هو',\n",
       " 'ill',\n",
       " 'あ',\n",
       " 'thinking',\n",
       " 'wtf',\n",
       " 'pagi',\n",
       " 'mama',\n",
       " 'kalau',\n",
       " 'hati',\n",
       " 'sexy',\n",
       " 'sayang',\n",
       " 'baik',\n",
       " 'semua',\n",
       " 'hola',\n",
       " 'went',\n",
       " 'vos',\n",
       " 'tanto',\n",
       " 'finally',\n",
       " 'fb',\n",
       " 'sea',\n",
       " 'stupid',\n",
       " 'tus',\n",
       " 'seriously',\n",
       " 'hora',\n",
       " 'min',\n",
       " 'pic',\n",
       " 'estas',\n",
       " 'turn',\n",
       " 'hours',\n",
       " 'excited',\n",
       " 'nah',\n",
       " 'buy',\n",
       " 'saying',\n",
       " 'mah',\n",
       " 'break',\n",
       " 'needs',\n",
       " 'ce',\n",
       " 'room',\n",
       " 'choice',\n",
       " 'far',\n",
       " 'dead',\n",
       " 'quero',\n",
       " 'saw',\n",
       " 'kids',\n",
       " 'lil',\n",
       " 'whole',\n",
       " 'puede',\n",
       " 'fall',\n",
       " 'sus',\n",
       " 'lost',\n",
       " 'asi',\n",
       " 'word',\n",
       " '☹',\n",
       " 'also',\n",
       " 'ريتويت',\n",
       " 'probably',\n",
       " 'everybody',\n",
       " 'tarde',\n",
       " 'run',\n",
       " 'sei',\n",
       " 'follback',\n",
       " 'forget',\n",
       " 'sweet',\n",
       " 'welcome',\n",
       " 'selamat',\n",
       " '＿',\n",
       " 'sur',\n",
       " 'place',\n",
       " 'gusta',\n",
       " 'sabe',\n",
       " 'androidgames',\n",
       " 'tp',\n",
       " 'tiempo',\n",
       " 'بس',\n",
       " 'sou',\n",
       " 'tuh',\n",
       " 'vs',\n",
       " 'eyes',\n",
       " 'انا',\n",
       " 'picture',\n",
       " 'das',\n",
       " 'meet',\n",
       " 'anak',\n",
       " 'persona',\n",
       " 'essa',\n",
       " 'bored',\n",
       " 'following',\n",
       " 'nadie',\n",
       " 'nobody',\n",
       " 'dice',\n",
       " 'alone',\n",
       " 'sick',\n",
       " 'red',\n",
       " 'city',\n",
       " 'cinta',\n",
       " '月',\n",
       " 'linda',\n",
       " 'dream',\n",
       " 'story',\n",
       " 'km',\n",
       " 'het',\n",
       " 'waiting',\n",
       " '^_^',\n",
       " 'mine',\n",
       " 'что',\n",
       " 'reason',\n",
       " 'kk',\n",
       " 'لو',\n",
       " 'online',\n",
       " 'fast',\n",
       " 'udh',\n",
       " 'wanted',\n",
       " 'op',\n",
       " 'others',\n",
       " 'gay',\n",
       " 'n’t',\n",
       " 'used',\n",
       " 'sem',\n",
       " 'understand',\n",
       " 'moi',\n",
       " 'sm',\n",
       " 'aint',\n",
       " 'donde',\n",
       " 'bem',\n",
       " 'which',\n",
       " 'ng',\n",
       " 'followback',\n",
       " 'punya',\n",
       " 'late',\n",
       " 'anda',\n",
       " 'tidur',\n",
       " 'puedo',\n",
       " 'early',\n",
       " 'nd',\n",
       " 'personas',\n",
       " 'banyak',\n",
       " '✅',\n",
       " '➊',\n",
       " 'trust',\n",
       " 'noche',\n",
       " 'tl',\n",
       " '＞',\n",
       " '«',\n",
       " 'af',\n",
       " 'move',\n",
       " 'pro',\n",
       " 'bring',\n",
       " 'ku',\n",
       " 'called',\n",
       " 'relationship',\n",
       " 'idk',\n",
       " 'hurt',\n",
       " 'st',\n",
       " 'pernah',\n",
       " 'pessoas',\n",
       " 'hello',\n",
       " 'uno',\n",
       " 'unfollowers',\n",
       " 'cry',\n",
       " ...]"
      ]
     },
     "execution_count": 161,
     "metadata": {},
     "output_type": "execute_result"
    }
   ],
   "source": [
    "embeddings_pretrained.index2word"
   ]
  },
  {
   "cell_type": "code",
   "execution_count": null,
   "metadata": {},
   "outputs": [],
   "source": []
  }
 ],
 "metadata": {
  "colab": {
   "collapsed_sections": [],
   "name": "[seminar]text_preprocessing_and_classification.ipynb",
   "provenance": []
  },
  "kernelspec": {
   "display_name": "Python 3 (ipykernel)",
   "language": "python",
   "name": "python3"
  },
  "language_info": {
   "codemirror_mode": {
    "name": "ipython",
    "version": 3
   },
   "file_extension": ".py",
   "mimetype": "text/x-python",
   "name": "python",
   "nbconvert_exporter": "python",
   "pygments_lexer": "ipython3",
   "version": "3.9.7"
  },
  "toc": {
   "base_numbering": 1,
   "nav_menu": {
    "height": "11.8333px",
    "width": "160px"
   },
   "number_sections": false,
   "sideBar": true,
   "skip_h1_title": false,
   "title_cell": "Table of Contents",
   "title_sidebar": "Contents",
   "toc_cell": false,
   "toc_position": {
    "height": "calc(100% - 180px)",
    "left": "10px",
    "top": "150px",
    "width": "339.717px"
   },
   "toc_section_display": true,
   "toc_window_display": false
  },
  "varInspector": {
   "cols": {
    "lenName": 16,
    "lenType": 16,
    "lenVar": 40
   },
   "kernels_config": {
    "python": {
     "delete_cmd_postfix": "",
     "delete_cmd_prefix": "del ",
     "library": "var_list.py",
     "varRefreshCmd": "print(var_dic_list())"
    },
    "r": {
     "delete_cmd_postfix": ") ",
     "delete_cmd_prefix": "rm(",
     "library": "var_list.r",
     "varRefreshCmd": "cat(var_dic_list()) "
    }
   },
   "types_to_exclude": [
    "module",
    "function",
    "builtin_function_or_method",
    "instance",
    "_Feature"
   ],
   "window_display": false
  }
 },
 "nbformat": 4,
 "nbformat_minor": 1
}
